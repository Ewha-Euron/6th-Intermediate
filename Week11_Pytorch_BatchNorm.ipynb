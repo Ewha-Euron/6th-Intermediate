{
  "cells": [
    {
      "cell_type": "markdown",
      "metadata": {
        "id": "0eelkFb3A9_C"
      },
      "source": [
        "# Batch Normalization in Pytorch"
      ]
    },
    {
      "cell_type": "code",
      "execution_count": 13,
      "metadata": {
        "collapsed": true,
        "id": "HZ0W7icSA9_H"
      },
      "outputs": [],
      "source": [
        "%matplotlib inline\n",
        "\n",
        "import numpy as np\n",
        "import torch\n",
        "import matplotlib.pyplot as plt"
      ]
    },
    {
      "cell_type": "markdown",
      "metadata": {
        "id": "pSSsGJAeA9_G"
      },
      "source": [
        "## Prepare dataset\n",
        "- MNIST dataset\n",
        "  - 28x28 image"
      ]
    },
    {
      "cell_type": "code",
      "execution_count": 14,
      "metadata": {
        "collapsed": true,
        "id": "D-pO_7U8A9_J"
      },
      "outputs": [],
      "source": [
        "from torchvision import datasets\n",
        "from torchvision.transforms import ToTensor\n",
        "from torch.utils.data import DataLoader\n",
        "\n",
        "# get the MNIST datasets\n",
        "# transform: convert data to FloatTensor\n",
        "train_data = datasets.MNIST(root='data', train=True, download=True,\n",
        "                            transform=ToTensor())\n",
        "test_data = datasets.MNIST(root='data', train=False, download=True,\n",
        "                           transform=ToTensor())\n",
        "\n",
        "# number of samples per batch\n",
        "batch_size = 64\n",
        "\n",
        "# DataLoader\n",
        "# num_workers: number of subprocesses to use for data loading\n",
        "train_loader = DataLoader(train_data, batch_size=batch_size, num_workers=0)\n",
        "test_loader = DataLoader(test_data, batch_size=batch_size, num_workers=0)"
      ]
    },
    {
      "cell_type": "code",
      "source": [
        "print(len(train_loader))\n",
        "print(len(test_loader))"
      ],
      "metadata": {
        "colab": {
          "base_uri": "https://localhost:8080/"
        },
        "id": "KUPyxQApnYsM",
        "outputId": "83ac35f9-a2b2-4ff2-8126-0e0e1f475033"
      },
      "execution_count": 15,
      "outputs": [
        {
          "output_type": "stream",
          "name": "stdout",
          "text": [
            "938\n",
            "157\n"
          ]
        }
      ]
    },
    {
      "cell_type": "markdown",
      "metadata": {
        "id": "Rtolug7ZA9_K"
      },
      "source": [
        "### Visualize the data"
      ]
    },
    {
      "cell_type": "code",
      "execution_count": 16,
      "metadata": {
        "colab": {
          "base_uri": "https://localhost:8080/",
          "height": 329
        },
        "id": "gX5LLMxbA9_L",
        "outputId": "8e7b11bd-7007-4ddd-ce70-c1c6ebb37d9d"
      },
      "outputs": [
        {
          "output_type": "stream",
          "name": "stdout",
          "text": [
            "(28, 28)\n"
          ]
        },
        {
          "output_type": "execute_result",
          "data": {
            "text/plain": [
              "<matplotlib.image.AxesImage at 0x7ca2a0c3df90>"
            ]
          },
          "metadata": {},
          "execution_count": 16
        },
        {
          "output_type": "display_data",
          "data": {
            "text/plain": [
              "<Figure size 300x300 with 1 Axes>"
            ],
            "image/png": "[encoded data removed]"
          },
          "metadata": {}
        }
      ],
      "source": [
        "# one batch of training images\n",
        "images, labels = next(iter(train_loader))\n",
        "# to numpy array\n",
        "images = images.numpy()\n",
        "\n",
        "# one image from the batch\n",
        "img = np.squeeze(images[0])\n",
        "# image shape\n",
        "print(img.shape)\n",
        "\n",
        "fig = plt.figure(figsize = (3,3))\n",
        "ax = fig.add_subplot(111)\n",
        "ax.imshow(img, cmap='gray')"
      ]
    },
    {
      "cell_type": "markdown",
      "metadata": {
        "id": "PBbYBg5_A9_M"
      },
      "source": [
        "## Model class\n",
        "- a simple MLP for classification\n",
        "\n",
        "- add batch normalization to layers\n",
        "  - layers with batch normalization do **not** include a bias term\n",
        "  - use `nn.BatchNorm1d()` to operate on linear layer outputs\n",
        "  - add the batch normalization layer **before** calling the activation function\n"
      ]
    },
    {
      "cell_type": "code",
      "execution_count": 17,
      "metadata": {
        "collapsed": true,
        "id": "iOvSo8CFA9_N"
      },
      "outputs": [],
      "source": [
        "import torch.nn as nn\n",
        "import torch.nn.functional as F\n",
        "\n",
        "class NeuralNet(nn.Module):\n",
        "    def __init__(self, use_batch_norm, input_size=784, hidden_dim=256, output_size=10):\n",
        "        # init super(=nn.Module)\n",
        "        super(NeuralNet, self).__init__()\n",
        "\n",
        "        # input_size: number of features (28x28 image)\n",
        "        self.input_size = input_size\n",
        "        self.hidden_dim = hidden_dim\n",
        "        # output_size: number of classes (0~9)\n",
        "        self.output_size = output_size\n",
        "        # use_batch_norm: whether or not this network uses batch norm\n",
        "        self.use_batch_norm = use_batch_norm\n",
        "\n",
        "        # define hidden linear layers\n",
        "        # layers with batch_norm -> no bias term\n",
        "        ## Layer 1\n",
        "        # use batch norm\n",
        "        if use_batch_norm:\n",
        "            self.fc1 = nn.Linear(input_size, hidden_dim*2, bias=False)\n",
        "            self.batch_norm1 = nn.BatchNorm1d(hidden_dim*2)\n",
        "        # do not use batch norm\n",
        "        else:\n",
        "            self.fc1 = nn.Linear(input_size, hidden_dim*2)\n",
        "\n",
        "        ## Layer 2\n",
        "        # use batch norm\n",
        "        if use_batch_norm:\n",
        "            self.fc2 = nn.Linear(hidden_dim*2, hidden_dim, bias=False)\n",
        "            self.batch_norm2 = nn.BatchNorm1d(hidden_dim)\n",
        "        # do not use batch norm\n",
        "        else:\n",
        "            self.fc2 = nn.Linear(hidden_dim*2, hidden_dim)\n",
        "\n",
        "        ## Layer 3 (output layer)\n",
        "        self.fc3 = nn.Linear(hidden_dim, output_size)\n",
        "\n",
        "\n",
        "    def forward(self, x):\n",
        "        # flatten image (reshape)\n",
        "        x = x.view(-1, 28*28)\n",
        "\n",
        "        ## Layer 1\n",
        "        # linear\n",
        "        x = self.fc1(x)\n",
        "        # batch norm\n",
        "        if self.use_batch_norm:\n",
        "            x = self.batch_norm1(x)\n",
        "        # activation function\n",
        "        x = F.relu(x)\n",
        "\n",
        "        ## Layer 2\n",
        "        x = self.fc2(x)\n",
        "        if self.use_batch_norm:\n",
        "            x = self.batch_norm2(x)\n",
        "        x = F.relu(x)\n",
        "\n",
        "        ## Layer 3: linear (no batch norm, activation function)\n",
        "        x = self.fc3(x)\n",
        "\n",
        "        return x\n"
      ]
    },
    {
      "cell_type": "markdown",
      "metadata": {
        "id": "QlsttRxTA9_O"
      },
      "source": [
        "### Create two different models\n",
        "\n",
        "* `net_batchnorm`: **with** batch normalization\n",
        "* `net_no_norm`: **without** batch normalization (a plain MLP)"
      ]
    },
    {
      "cell_type": "code",
      "execution_count": 18,
      "metadata": {
        "id": "19qgkgeyA9_Q",
        "colab": {
          "base_uri": "https://localhost:8080/"
        },
        "outputId": "c2b5453a-27dc-4f55-8c33-91b5688c04b1"
      },
      "outputs": [
        {
          "output_type": "stream",
          "name": "stdout",
          "text": [
            "NeuralNet(\n",
            "  (fc1): Linear(in_features=784, out_features=512, bias=False)\n",
            "  (batch_norm1): BatchNorm1d(512, eps=1e-05, momentum=0.1, affine=True, track_running_stats=True)\n",
            "  (fc2): Linear(in_features=512, out_features=256, bias=False)\n",
            "  (batch_norm2): BatchNorm1d(256, eps=1e-05, momentum=0.1, affine=True, track_running_stats=True)\n",
            "  (fc3): Linear(in_features=256, out_features=10, bias=True)\n",
            ")\n",
            "\n",
            "NeuralNet(\n",
            "  (fc1): Linear(in_features=784, out_features=512, bias=True)\n",
            "  (fc2): Linear(in_features=512, out_features=256, bias=True)\n",
            "  (fc3): Linear(in_features=256, out_features=10, bias=True)\n",
            ")\n"
          ]
        }
      ],
      "source": [
        "net_batchnorm = NeuralNet(use_batch_norm=True)\n",
        "net_no_norm = NeuralNet(use_batch_norm=False)\n",
        "\n",
        "# print models\n",
        "print(net_batchnorm)\n",
        "print()\n",
        "print(net_no_norm)"
      ]
    },
    {
      "cell_type": "markdown",
      "metadata": {
        "collapsed": true,
        "id": "Iba2BqGMA9_R"
      },
      "source": [
        "## Train\n",
        "- cross entropy loss\n",
        "- stochastic gradient descent(SGD) for optimization"
      ]
    },
    {
      "cell_type": "code",
      "execution_count": 19,
      "metadata": {
        "collapsed": true,
        "id": "7Kqb_o96A9_S"
      },
      "outputs": [],
      "source": [
        "def train(model, n_epochs=10):\n",
        "    # number of epochs to train model (default=10)\n",
        "    n_epochs = n_epochs\n",
        "\n",
        "    # track loss\n",
        "    losses = []\n",
        "\n",
        "    # loss function\n",
        "    criterion = nn.CrossEntropyLoss()\n",
        "\n",
        "    # optimizer (SGD)\n",
        "    optimizer = torch.optim.SGD(model.parameters(), lr=0.01)\n",
        "\n",
        "    # set the model to training mode\n",
        "    model.train()\n",
        "\n",
        "    for epoch in range(1, n_epochs+1):\n",
        "        # monitor training loss\n",
        "        train_loss = 0.0\n",
        "\n",
        "        ###################\n",
        "        # train the model #\n",
        "        ###################\n",
        "        batch_count = 0\n",
        "        for batch_idx, (data, target) in enumerate(train_loader):\n",
        "            # clear the gradients\n",
        "            optimizer.zero_grad()\n",
        "\n",
        "            # forward\n",
        "            output = model(data)\n",
        "\n",
        "            # loss\n",
        "            loss = criterion(output, target)\n",
        "\n",
        "            # backward\n",
        "            loss.backward()\n",
        "            # update parameter: a single optimization step\n",
        "            optimizer.step()\n",
        "\n",
        "            # update train loss\n",
        "            # loss.item(): get scalar loss value (average batch loss)\n",
        "            train_loss += loss.item()\n",
        "            batch_count +=1\n",
        "\n",
        "        # loss\n",
        "        losses.append(train_loss/batch_count)\n",
        "        print('Epoch: {} \\tTraining Loss: {:.6f}'.format(epoch, train_loss/batch_count))\n",
        "\n",
        "    # return all recorded batch losses\n",
        "    return losses"
      ]
    },
    {
      "cell_type": "markdown",
      "metadata": {
        "id": "xnmZnK-_A9_S"
      },
      "source": [
        "### Compare models"
      ]
    },
    {
      "cell_type": "code",
      "execution_count": 20,
      "metadata": {
        "id": "FPAKeqRnA9_T",
        "colab": {
          "base_uri": "https://localhost:8080/"
        },
        "outputId": "eb091c8b-c5f3-4358-fcfe-f2014afadc2f"
      },
      "outputs": [
        {
          "output_type": "stream",
          "name": "stdout",
          "text": [
            "Epoch: 1 \tTraining Loss: 0.393225\n",
            "Epoch: 2 \tTraining Loss: 0.163401\n",
            "Epoch: 3 \tTraining Loss: 0.113395\n",
            "Epoch: 4 \tTraining Loss: 0.084088\n",
            "Epoch: 5 \tTraining Loss: 0.064032\n",
            "Epoch: 6 \tTraining Loss: 0.049439\n",
            "Epoch: 7 \tTraining Loss: 0.038569\n",
            "Epoch: 8 \tTraining Loss: 0.030373\n",
            "Epoch: 9 \tTraining Loss: 0.024097\n",
            "Epoch: 10 \tTraining Loss: 0.019302\n"
          ]
        }
      ],
      "source": [
        "# losses (with batch norm)\n",
        "losses_batchnorm = train(net_batchnorm)"
      ]
    },
    {
      "cell_type": "code",
      "execution_count": 21,
      "metadata": {
        "id": "BFvuu8-EA9_T",
        "colab": {
          "base_uri": "https://localhost:8080/"
        },
        "outputId": "21331690-4a0e-4b6d-9ca8-6cf476877976"
      },
      "outputs": [
        {
          "output_type": "stream",
          "name": "stdout",
          "text": [
            "Epoch: 1 \tTraining Loss: 1.557275\n",
            "Epoch: 2 \tTraining Loss: 0.495918\n",
            "Epoch: 3 \tTraining Loss: 0.372220\n",
            "Epoch: 4 \tTraining Loss: 0.327937\n",
            "Epoch: 5 \tTraining Loss: 0.300059\n",
            "Epoch: 6 \tTraining Loss: 0.278639\n",
            "Epoch: 7 \tTraining Loss: 0.260513\n",
            "Epoch: 8 \tTraining Loss: 0.244380\n",
            "Epoch: 9 \tTraining Loss: 0.229659\n",
            "Epoch: 10 \tTraining Loss: 0.215995\n"
          ]
        }
      ],
      "source": [
        "# losses (without batch norm)\n",
        "losses_no_norm = train(net_no_norm)"
      ]
    },
    {
      "cell_type": "code",
      "execution_count": 28,
      "metadata": {
        "id": "cn7f12ulA9_U",
        "colab": {
          "base_uri": "https://localhost:8080/",
          "height": 409
        },
        "outputId": "84c665b6-0114-4236-a29c-57ff31abb4ad"
      },
      "outputs": [
        {
          "output_type": "execute_result",
          "data": {
            "text/plain": [
              "<matplotlib.legend.Legend at 0x7ca2ade17df0>"
            ]
          },
          "metadata": {},
          "execution_count": 28
        },
        {
          "output_type": "display_data",
          "data": {
            "text/plain": [
              "<Figure size 800x400 with 1 Axes>"
            ],
            "image/png": "[encoded data removed]"
          },
          "metadata": {}
        }
      ],
      "source": [
        "# compare\n",
        "fig, ax = plt.subplots(figsize=(8,4))\n",
        "plt.plot(losses_batchnorm, label='Using batchnorm', alpha=0.5)\n",
        "plt.plot(losses_no_norm, label='No norm', alpha=0.5)\n",
        "plt.title(\"Training Losses\")\n",
        "plt.legend()"
      ]
    },
    {
      "cell_type": "markdown",
      "metadata": {
        "collapsed": true,
        "id": "lU3lquGeA9_U"
      },
      "source": [
        "## Test\n"
      ]
    },
    {
      "cell_type": "code",
      "execution_count": 29,
      "metadata": {
        "collapsed": true,
        "id": "oelaAafzA9_U"
      },
      "outputs": [],
      "source": [
        "def test(model, train):\n",
        "    # zero array (size 10)\n",
        "    class_correct = list(0. for i in range(10))\n",
        "    class_total = list(0. for i in range(10))\n",
        "    test_loss = 0.0\n",
        "\n",
        "    # train parameter -> set model to train or evaluation mode\n",
        "    if(train==True):\n",
        "        model.train()\n",
        "    if(train==False):\n",
        "        model.eval()\n",
        "\n",
        "    # loss\n",
        "    criterion = nn.CrossEntropyLoss()\n",
        "\n",
        "    for batch_idx, (data, target) in enumerate(test_loader):\n",
        "        batch_size = data.size(0)\n",
        "        # forward\n",
        "        output = model(data)\n",
        "\n",
        "        # loss\n",
        "        loss = criterion(output, target)\n",
        "\n",
        "        # average test loss\n",
        "        test_loss += loss.item()*batch_size\n",
        "        # output -> predict class(target) using max prob\n",
        "        _, pred = torch.max(output, 1)\n",
        "        # compare predictions to true label\n",
        "        correct = np.squeeze(pred.eq(target.data.view_as(pred)))\n",
        "\n",
        "        # calculate test accuracy\n",
        "        for i in range(batch_size):\n",
        "            label = target.data[i]\n",
        "            class_correct[label] += correct[i].item()\n",
        "            class_total[label] += 1\n",
        "\n",
        "    print('Test Loss: {:.6f}\\n'.format(test_loss/len(test_loader.dataset)))\n",
        "\n",
        "    for i in range(10):\n",
        "        if class_total[i] > 0:\n",
        "            print('Test Accuracy of %5s: %2d%% (%2d/%2d)' % (str(i),\n",
        "                                                             100 * class_correct[i] / class_total[i],\n",
        "                                                             np.sum(class_correct[i]),\n",
        "                                                             np.sum(class_total[i])))\n",
        "        else:\n",
        "            print('Test Accuracy of %5s: N/A (no training examples)' % (str(i)))\n",
        "\n",
        "    print('\\nTest Accuracy (Overall): %2d%% (%2d/%2d)' % (100. * np.sum(class_correct) / np.sum(class_total),\n",
        "                                                          np.sum(class_correct), np.sum(class_total)))"
      ]
    },
    {
      "cell_type": "markdown",
      "metadata": {
        "id": "VqAIRNFvA9_V"
      },
      "source": [
        "### Train mode VS Evaluation mode\n",
        "\n",
        "Setting a model to evaluation mode is important for models with batch normalization layers\n",
        "\n",
        "- Train mode: batch normalization layers will use **batch** statistics to calculate the batch norm\n",
        "- Evaluation mode: use the estimated **population** mean and variance from the entire training set\n",
        "  -> give us increased performance on this test data"
      ]
    },
    {
      "cell_type": "code",
      "execution_count": 30,
      "metadata": {
        "id": "Sm-a8Z71A9_W",
        "colab": {
          "base_uri": "https://localhost:8080/"
        },
        "outputId": "4730a731-e1ae-4eb9-b124-6bfff2c01b92"
      },
      "outputs": [
        {
          "output_type": "stream",
          "name": "stdout",
          "text": [
            "Test Loss: 0.082439\n",
            "\n",
            "Test Accuracy of     0: 98% (966/980)\n",
            "Test Accuracy of     1: 99% (1127/1135)\n",
            "Test Accuracy of     2: 96% (997/1032)\n",
            "Test Accuracy of     3: 97% (982/1010)\n",
            "Test Accuracy of     4: 97% (954/982)\n",
            "Test Accuracy of     5: 97% (869/892)\n",
            "Test Accuracy of     6: 97% (936/958)\n",
            "Test Accuracy of     7: 97% (998/1028)\n",
            "Test Accuracy of     8: 97% (945/974)\n",
            "Test Accuracy of     9: 96% (976/1009)\n",
            "\n",
            "Test Accuracy (Overall): 97% (9750/10000)\n"
          ]
        }
      ],
      "source": [
        "# test (batch norm) in train mode\n",
        "test(net_batchnorm, train=True)"
      ]
    },
    {
      "cell_type": "code",
      "execution_count": 31,
      "metadata": {
        "id": "D9e6bCSMA9_W",
        "colab": {
          "base_uri": "https://localhost:8080/"
        },
        "outputId": "dc8c54a0-ffe8-4e92-fb07-eb66011ee6bb"
      },
      "outputs": [
        {
          "output_type": "stream",
          "name": "stdout",
          "text": [
            "Test Loss: 0.069304\n",
            "\n",
            "Test Accuracy of     0: 98% (968/980)\n",
            "Test Accuracy of     1: 99% (1127/1135)\n",
            "Test Accuracy of     2: 97% (1006/1032)\n",
            "Test Accuracy of     3: 98% (991/1010)\n",
            "Test Accuracy of     4: 97% (954/982)\n",
            "Test Accuracy of     5: 97% (870/892)\n",
            "Test Accuracy of     6: 97% (932/958)\n",
            "Test Accuracy of     7: 96% (990/1028)\n",
            "Test Accuracy of     8: 96% (941/974)\n",
            "Test Accuracy of     9: 98% (989/1009)\n",
            "\n",
            "Test Accuracy (Overall): 97% (9768/10000)\n"
          ]
        }
      ],
      "source": [
        "# test (batch norm) in eval mode\n",
        "test(net_batchnorm, train=False)"
      ]
    },
    {
      "cell_type": "code",
      "execution_count": 32,
      "metadata": {
        "id": "BmixGCRCA9_W",
        "colab": {
          "base_uri": "https://localhost:8080/"
        },
        "outputId": "a24b39c9-1083-4edf-8834-dcc3e58f6d45"
      },
      "outputs": [
        {
          "output_type": "stream",
          "name": "stdout",
          "text": [
            "Test Loss: 0.207962\n",
            "\n",
            "Test Accuracy of     0: 98% (966/980)\n",
            "Test Accuracy of     1: 98% (1114/1135)\n",
            "Test Accuracy of     2: 91% (944/1032)\n",
            "Test Accuracy of     3: 93% (940/1010)\n",
            "Test Accuracy of     4: 93% (916/982)\n",
            "Test Accuracy of     5: 92% (822/892)\n",
            "Test Accuracy of     6: 95% (913/958)\n",
            "Test Accuracy of     7: 92% (952/1028)\n",
            "Test Accuracy of     8: 91% (890/974)\n",
            "Test Accuracy of     9: 93% (941/1009)\n",
            "\n",
            "Test Accuracy (Overall): 93% (9398/10000)\n"
          ]
        }
      ],
      "source": [
        "# test (without batch norm) in eval mode\n",
        "test(net_no_norm, train=False)"
      ]
    },
    {
      "cell_type": "markdown",
      "metadata": {
        "id": "i12u0fjeA9_X"
      },
      "source": [
        "- batch norm model's accuracy: **evaluation mode** should give a small improvement (better than train mode)\n",
        "\n",
        "- using batch norm layers shows a marked improvement in overall accuracy when compared with the no-normalization model"
      ]
    }
  ],
  "metadata": {
    "kernelspec": {
      "display_name": "Python [default]",
      "language": "python",
      "name": "python3"
    },
    "language_info": {
      "codemirror_mode": {
        "name": "ipython",
        "version": 3
      },
      "file_extension": ".py",
      "mimetype": "text/x-python",
      "name": "python",
      "nbconvert_exporter": "python",
      "pygments_lexer": "ipython3",
      "version": "3.6.4"
    },
    "colab": {
      "provenance": []
    }
  },
  "nbformat": 4,
  "nbformat_minor": 0
}