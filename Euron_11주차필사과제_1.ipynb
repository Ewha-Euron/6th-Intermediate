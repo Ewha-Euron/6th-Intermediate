{
  "nbformat": 4,
  "nbformat_minor": 0,
  "metadata": {
    "colab": {
      "provenance": [],
      "gpuType": "T4"
    },
    "kernelspec": {
      "name": "python3",
      "display_name": "Python 3"
    },
    "language_info": {
      "name": "python"
    },
    "accelerator": "GPU"
  },
  "cells": [
    {
      "cell_type": "code",
      "execution_count": 2,
      "metadata": {
        "id": "2MmDudXsfmgN"
      },
      "outputs": [],
      "source": [
        "import numpy as np\n",
        "import pandas as pd\n",
        "\n",
        "train = pd.read_csv('./train.csv')\n",
        "test = pd.read_csv('./test.csv')\n",
        "submission = pd.read_csv('./gender_submission.csv')"
      ]
    },
    {
      "cell_type": "code",
      "source": [
        "import torch\n",
        "import torch.nn as nn\n",
        "import torch.nn.functional as F\n",
        "\n",
        "class SimpleNN(nn.Module):\n",
        "    def __init__(self):\n",
        "        super().__init__()\n",
        "        self.classifier = nn.Sequential(\n",
        "            nn.Linear(5, 128),\n",
        "            nn.BatchNorm1d(128),\n",
        "            nn.ReLU(),\n",
        "            nn.Dropout(0.1),\n",
        "            nn.Linear(128, 256),\n",
        "            nn.BatchNorm1d(256),\n",
        "            nn.ReLU(),\n",
        "            nn.Dropout(0.1),\n",
        "            nn.Linear(256, 128),\n",
        "            nn.BatchNorm1d(128),\n",
        "            nn.ReLU(),\n",
        "            nn.Dropout(0.1),\n",
        "            nn.Linear(128, 1),\n",
        "            nn.Sigmoid()\n",
        "        )\n",
        "\n",
        "    def forward(self, x):\n",
        "        x = x.view(x.size(0), -1)\n",
        "        x = self.classifier(x)\n",
        "        return x"
      ],
      "metadata": {
        "id": "IKquqdVUf7dP"
      },
      "execution_count": 5,
      "outputs": []
    },
    {
      "cell_type": "code",
      "source": [
        "data_set = pd.concat((train.drop(['Survived'], axis = 1), test), axis = 0)\n",
        "\n",
        "data_set = data_set.drop(['PassengerId', 'Name', 'Sex', 'Ticket', 'Cabin', 'Embarked'], axis = 1)\n",
        "data_set = data_set.fillna(data_set.mean())\n",
        "\n",
        "n_train = train.shape[0]\n",
        "train_x, test_x = data_set[:n_train], data_set[n_train:]\n",
        "train_y = train['Survived']\n",
        "\n",
        "train_x = train_x[train_x.keys()].values\n",
        "test_x = test_x[test_x.keys()].values\n",
        "train_y = train_y.values\n",
        "\n",
        "import torch.optim as optim\n",
        "from torch.autograd import Variable\n",
        "\n",
        "simple_nn = SimpleNN()\n",
        "optimizer = optim.Adam(simple_nn.parameters(), lr=0.01)\n",
        "error = nn.BCELoss()\n",
        "\n",
        "batch_size = 99\n",
        "batch_count = int(len(train_x) / batch_size)\n",
        "\n",
        "for epoch in range(300):\n",
        "    train_loss = 0\n",
        "    num_right = 0\n",
        "    for i in range(batch_count):\n",
        "        start = i * batch_size\n",
        "        end = start + batch_size\n",
        "        tensor_x = torch.FloatTensor(train_x[start:end])\n",
        "        tensor_y = torch.FloatTensor(train_y[start:end]).reshape(-1, 1)\n",
        "\n",
        "        optimizer.zero_grad()\n",
        "        output = simple_nn(tensor_x)\n",
        "        loss = error(output, tensor_y)\n",
        "        loss.backward()\n",
        "        optimizer.step()\n",
        "\n",
        "        train_loss += loss.item() * batch_size\n",
        "        result = [1 if out >= 0.5 else 0 for out in output]\n",
        "        num_right += np.sum(np.array(result) == train_y[start:end])\n",
        "\n",
        "    train_loss = train_loss / len(train_x)\n",
        "    accuracy = num_right / len(train_x)\n",
        "\n",
        "    if epoch % 25 == 0:\n",
        "        print('Loss: {} Accuracy: {}% Epoch:{}'.format(train_loss, accuracy, epoch))\n",
        "\n",
        "print('Training Ended')"
      ],
      "metadata": {
        "colab": {
          "base_uri": "https://localhost:8080/"
        },
        "id": "FDEVYEC6f6Em",
        "outputId": "9c1a615d-e42c-4286-bc98-8133396f07af"
      },
      "execution_count": 6,
      "outputs": [
        {
          "output_type": "stream",
          "name": "stdout",
          "text": [
            "Loss: 0.6433323555522494 Accuracy: 0.6554433221099888% Epoch:0\n",
            "Loss: 0.5325872169600593 Accuracy: 0.7474747474747475% Epoch:25\n",
            "Loss: 0.4781406886047787 Accuracy: 0.7687991021324355% Epoch:50\n",
            "Loss: 0.40701249572965836 Accuracy: 0.8114478114478114% Epoch:75\n",
            "Loss: 0.41228268212742275 Accuracy: 0.819304152637486% Epoch:100\n",
            "Loss: 0.38357147243287826 Accuracy: 0.8237934904601572% Epoch:125\n",
            "Loss: 0.3328804605536991 Accuracy: 0.8552188552188552% Epoch:150\n",
            "Loss: 0.31955427593655056 Accuracy: 0.8709315375982043% Epoch:175\n",
            "Loss: 0.25873688360055286 Accuracy: 0.8922558922558923% Epoch:200\n",
            "Loss: 0.27872639894485474 Accuracy: 0.877665544332211% Epoch:225\n",
            "Loss: 0.24741005731953514 Accuracy: 0.9034792368125701% Epoch:250\n",
            "Loss: 0.21650268137454987 Accuracy: 0.9124579124579124% Epoch:275\n",
            "Training Ended\n"
          ]
        }
      ]
    },
    {
      "cell_type": "code",
      "source": [
        "tensor_test_x = torch.FloatTensor(test_x)\n",
        "with torch.no_grad():\n",
        "  test_output = simple_nn(tensor_test_x)\n",
        "  result = np.array([1 if out >= 0.5 else 0 for out in test_output])\n",
        "  submission = pd.DataFrame({'PassengerId': test['PassengerId'], 'Survived': result})\n",
        "  submission.to_csv('submission.csv', index = False)"
      ],
      "metadata": {
        "id": "eG-QQgvzi2I0"
      },
      "execution_count": 7,
      "outputs": []
    }
  ]
}