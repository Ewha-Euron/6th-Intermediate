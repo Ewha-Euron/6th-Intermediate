{
  "nbformat": 4,
  "nbformat_minor": 0,
  "metadata": {
    "colab": {
      "provenance": []
    },
    "kernelspec": {
      "name": "python3",
      "display_name": "Python 3"
    },
    "language_info": {
      "name": "python"
    }
  },
  "cells": [
    {
      "cell_type": "markdown",
      "source": [
        "## Dropout과 배치 정규화 이해하기"
      ],
      "metadata": {
        "id": "mtCwPIguBZdO"
      }
    },
    {
      "cell_type": "code",
      "execution_count": 1,
      "metadata": {
        "id": "IiRSzGjxBT-T"
      },
      "outputs": [],
      "source": [
        "import numpy as np\n",
        "import pandas as pd\n",
        "\n",
        "train = pd.read_csv('/content/drive/MyDrive/Euron 6기/train.csv')\n",
        "test = pd.read_csv('/content/drive/MyDrive/Euron 6기/test.csv')\n",
        "submission = pd.read_csv('/content/drive/MyDrive/Euron 6기/gender_submission.csv')"
      ]
    },
    {
      "cell_type": "code",
      "source": [
        "import torch\n",
        "import torch.nn as nn\n",
        "import torch.nn.functional as F\n",
        "\n",
        "class SimpleNN(nn.Module):\n",
        "    def __init__(self):\n",
        "        super().__init__()\n",
        "        self.classifier = nn.Sequential(\n",
        "            nn.Linear(5, 128),\n",
        "            ## Batch Normalization between 'Layer' and 'Activation function'\n",
        "            nn.BatchNorm1d(128),\n",
        "            nn.ReLU(),\n",
        "            ## Drop out after 'Activation function'\n",
        "            nn.Dropout(0.1),\n",
        "            nn.Linear(128, 256),\n",
        "            nn.BatchNorm1d(256),\n",
        "            nn.ReLU(),\n",
        "            nn.Dropout(0.1),\n",
        "            nn.Linear(256, 128),\n",
        "            nn.BatchNorm1d(128),\n",
        "            nn.ReLU(),\n",
        "            nn.Dropout(0.1),\n",
        "            nn.Linear(128, 1),\n",
        "            nn.Sigmoid()\n",
        "        )\n",
        "\n",
        "\n",
        "#순전파 함수\n",
        "    def forward(self, x):\n",
        "        x = x.view(x.size(0), -1)\n",
        "        x = self.classifier(x)\n",
        "        return x"
      ],
      "metadata": {
        "id": "0056EEBEBXEu"
      },
      "execution_count": 2,
      "outputs": []
    },
    {
      "cell_type": "code",
      "source": [
        "data_set = pd.concat((train.drop(['Survived'], axis = 1), test), axis = 0)\n",
        "\n",
        "data_set = data_set.drop(['PassengerId', 'Name', 'Sex', 'Ticket', 'Cabin', 'Embarked'], axis = 1)\n",
        "data_set = data_set.fillna(data_set.mean())\n",
        "\n",
        "n_train = train.shape[0]\n",
        "train_x, test_x = data_set[:n_train], data_set[n_train:]\n",
        "train_y = train['Survived']\n",
        "\n",
        "train_x = train_x[train_x.keys()].values\n",
        "test_x = test_x[test_x.keys()].values\n",
        "train_y = train_y.values\n",
        "\n",
        "import torch.optim as optim\n",
        "from torch.autograd import Variable\n",
        "\n",
        "simple_nn = SimpleNN()\n",
        "optimizer = optim.Adam(simple_nn.parameters(), lr=0.01)\n",
        "error = nn.BCELoss()\n",
        "\n",
        "batch_size = 99\n",
        "batch_count = int(len(train_x) / batch_size)\n",
        "\n",
        "#에폭 당 loss 비교\n",
        "for epoch in range(300):\n",
        "    train_loss = 0\n",
        "    num_right = 0\n",
        "    for i in range(batch_count):\n",
        "        start = i * batch_size\n",
        "        end = start + batch_size\n",
        "        tensor_x = torch.FloatTensor(train_x[start:end])\n",
        "        tensor_y = torch.FloatTensor(train_y[start:end]).reshape(-1, 1)\n",
        "\n",
        "        optimizer.zero_grad()\n",
        "        output = simple_nn(tensor_x)\n",
        "        loss = error(output, tensor_y)\n",
        "        loss.backward()\n",
        "        optimizer.step()\n",
        "\n",
        "        train_loss += loss.item() * batch_size\n",
        "        result = [1 if out >= 0.5 else 0 for out in output]\n",
        "        num_right += np.sum(np.array(result) == train_y[start:end])\n",
        "\n",
        "    train_loss = train_loss / len(train_x)\n",
        "    accuracy = num_right / len(train_x)\n",
        "\n",
        "    if epoch % 25 == 0:\n",
        "        print('Loss: {} Accuracy: {}% Epoch:{}'.format(train_loss, accuracy, epoch))\n",
        "\n",
        "print('Training Ended')"
      ],
      "metadata": {
        "colab": {
          "base_uri": "https://localhost:8080/"
        },
        "id": "MGm4TWGeBXCI",
        "outputId": "8e5a8201-b8cd-4840-e434-3bc0ef2e870c"
      },
      "execution_count": 3,
      "outputs": [
        {
          "output_type": "stream",
          "name": "stdout",
          "text": [
            "Loss: 0.6692924367056953 Accuracy: 0.6419753086419753% Epoch:0\n",
            "Loss: 0.5431633525424533 Accuracy: 0.7373737373737373% Epoch:25\n",
            "Loss: 0.4743279880947537 Accuracy: 0.7620650953984287% Epoch:50\n",
            "Loss: 0.4282568295796712 Accuracy: 0.8114478114478114% Epoch:75\n",
            "Loss: 0.3764321539137099 Accuracy: 0.8260381593714927% Epoch:100\n",
            "Loss: 0.3634873463047875 Accuracy: 0.8428731762065096% Epoch:125\n",
            "Loss: 0.30443838569853043 Accuracy: 0.8731762065095399% Epoch:150\n",
            "Loss: 0.30148064427905613 Accuracy: 0.8597081930415263% Epoch:175\n",
            "Loss: 0.26195374296771157 Accuracy: 0.8900112233445566% Epoch:200\n",
            "Loss: 0.2547840740945604 Accuracy: 0.8832772166105499% Epoch:225\n",
            "Loss: 0.27318720685111153 Accuracy: 0.8787878787878788% Epoch:250\n",
            "Loss: 0.2501436306370629 Accuracy: 0.8911335578002245% Epoch:275\n",
            "Training Ended\n"
          ]
        }
      ]
    },
    {
      "cell_type": "code",
      "source": [
        "tensor_test_x = torch.FloatTensor(test_x)\n",
        "with torch.no_grad():\n",
        "    test_output = simple_nn(tensor_test_x)\n",
        "    result = np.array([1 if out >= 0.5 else 0 for out in test_output])\n",
        "    # submission = pd.DataFrame({'PassengerId': test['PassengerId'], 'Survived': result})\n",
        "    # submission.to_csv('submission.csv', index=False)"
      ],
      "metadata": {
        "id": "HrUrEn9IBW-g"
      },
      "execution_count": 4,
      "outputs": []
    }
  ]
}