{
  "nbformat": 4,
  "nbformat_minor": 0,
  "metadata": {
    "colab": {
      "provenance": [],
      "authorship_tag": "ABX9TyOfDJujseD/jdGgPZXxb/Ee",
      "include_colab_link": true
    },
    "kernelspec": {
      "name": "python3",
      "display_name": "Python 3"
    },
    "language_info": {
      "name": "python"
    }
  },
  "cells": [
    {
      "cell_type": "markdown",
      "metadata": {
        "id": "view-in-github",
        "colab_type": "text"
      },
      "source": [
        "<a href=\"https://colab.research.google.com/github/whyeon92/6th-Intermediate/blob/Week11/%5BWeek11%5D_Batch_Normalization.ipynb\" target=\"_parent\"><img src=\"https://colab.research.google.com/assets/colab-badge.svg\" alt=\"Open In Colab\"/></a>"
      ]
    },
    {
      "cell_type": "markdown",
      "source": [
        "## Batch Normalization in Pytorch"
      ],
      "metadata": {
        "id": "XD8fG_5jf1v9"
      }
    },
    {
      "cell_type": "code",
      "execution_count": 1,
      "metadata": {
        "id": "pGxKSArlf01i"
      },
      "outputs": [],
      "source": [
        "%matplotlib inline\n",
        "\n",
        "import numpy as np\n",
        "import torch\n",
        "import matplotlib.pyplot as plt"
      ]
    },
    {
      "cell_type": "code",
      "source": [
        "from torchvision import datasets\n",
        "import torchvision.transforms as transforms\n",
        "\n",
        "#number of subprocesses to use for data loading\n",
        "num_workers = 0\n",
        "#how many samples per batch to load\n",
        "batch_size = 64\n",
        "\n",
        "#convert data to torch.FloatTensor\n",
        "transform = transforms.ToTensor()\n",
        "\n",
        "#get the training and test datasets\n",
        "train_data = datasets.MNIST(root = 'data', train = True,\n",
        "                            download = True, transform = transform)\n",
        "\n",
        "test_data = datasets.MNIST(root = 'data', train = False,\n",
        "                            download = True, transform = transform)\n",
        "\n",
        "#prepare data loaders\n",
        "train_loader = torch.utils.data.DataLoader(train_data, batch_size=batch_size,\n",
        "                                           num_workers=num_workers)\n",
        "\n",
        "test_loader = torch.utils.data.DataLoader(test_data, batch_size = batch_size,\n",
        "                                           num_workers = num_workers)"
      ],
      "metadata": {
        "id": "k52zTXPZgQmf"
      },
      "execution_count": 4,
      "outputs": []
    },
    {
      "cell_type": "markdown",
      "source": [
        "### Visualize the data"
      ],
      "metadata": {
        "id": "7m4KND3uhP_u"
      }
    },
    {
      "cell_type": "code",
      "source": [
        "#obtain one batch of training images\n",
        "dataiter = iter(train_loader)\n",
        "images, labels = next(iter(train_loader))\n",
        "#기존 코드 에러나서 고쳤어용\n",
        "#https://dacon.io/forum/407531\n",
        "#참고 링크, 기존 에러: '_SingleProcessDataLoaderIter' object has no attribute 'next'\n",
        "images = images.numpy()\n",
        "\n",
        "#get one image from the batch\n",
        "img = np.squeeze(images[0])\n",
        "\n",
        "fig = plt.figure(figsize = (3, 3))\n",
        "ax = fig.add_subplot(111)\n",
        "ax.imshow(img, cmap = 'gray')"
      ],
      "metadata": {
        "colab": {
          "base_uri": "https://localhost:8080/",
          "height": 311
        },
        "id": "QEM_HyTnhTWy",
        "outputId": "c122175e-b484-4dbb-edf2-5b5e1b3d32eb"
      },
      "execution_count": 8,
      "outputs": [
        {
          "output_type": "execute_result",
          "data": {
            "text/plain": [
              "<matplotlib.image.AxesImage at 0x7a7efc536200>"
            ]
          },
          "metadata": {},
          "execution_count": 8
        },
        {
          "output_type": "display_data",
          "data": {
            "text/plain": [
              "<Figure size 300x300 with 1 Axes>"
            ],
            "image/png": "[encoded data removed]"
          },
          "metadata": {}
        }
      ]
    },
    {
      "cell_type": "markdown",
      "source": [
        "## Neural network classes for testing"
      ],
      "metadata": {
        "id": "dyJsVD0-mGsV"
      }
    },
    {
      "cell_type": "code",
      "source": [
        "import torch.nn as nn\n",
        "import torch.nn.functional as F\n",
        "\n",
        "class NeuralNet(nn.Module):\n",
        "  def __init__(self, use_batch_norm, input_size = 784, hidden_dim = 256, output_size = 10):\n",
        "    \"\"\"\n",
        "    Creates a PyTorch net using the given parameters.\n",
        "\n",
        "    :param use_batch_norm: bool\n",
        "        Pass True to create a network that uses batch normalization; False otherwise\n",
        "        Note: this network will not use batch normalization on layers that do not have an\n",
        "        activation function.\n",
        "    \"\"\"\n",
        "    super(NeuralNet, self).__init__() #init super\n",
        "\n",
        "    #Default layer sizes\n",
        "    self.input_size = input_size  #(28*28 images)\n",
        "    self.hidden_dim = hidden_dim\n",
        "    self.output_size = output_size #(number of classes)\n",
        "    #Keep track of whether or not this network uses batch normalization\n",
        "    self.use_batch_norm = use_batch_norm\n",
        "\n",
        "    #define hidden linear layers, with optional batch norm on their outputs\n",
        "    # -> use_batch_norm은 불린 값으로 선택 옵션\n",
        "    #layers with batch_norm applied have no bias term -> bias = False로 설정!\n",
        "    if use_batch_norm:\n",
        "      self.fc1 = nn.Linear(input_size, hidden_dim*2, bias = False)\n",
        "      #배치 정규화 코드 추가\n",
        "      self.batch_norm1 = nn.BatchNorm1d(hidden_dim*2)\n",
        "    else:\n",
        "      self.fc1 = nn.Linear(input_size, hidden_dim*2)\n",
        "\n",
        "    #define *second* hidden linear layers, with optional batch norm on their outputs\n",
        "    #위와 같이 2nd layer 만들기, 근데 이제 배치 정규화 옵션에 따라 다르게 설정.\n",
        "    if use_batch_norm:\n",
        "      self.fc2 = nn.Linear(hidden_dim*2, hidden_dim, bias = False)\n",
        "      #배치 정규화 코드 추가\n",
        "      self.batch_norm2 = nn.BatchNorm1d(hidden_dim)\n",
        "    else:\n",
        "      self.fc2 = nn.Linear(hidden_dim*2, hidden_dim)\n",
        "\n",
        "    #third and final, fully_connected layer\n",
        "    self.fc3 = nn.Linear(hidden_dim, output_size)\n",
        "\n",
        "  def forward(self, x):\n",
        "    #flatten image 이미지 데이터 flat\n",
        "    x = x.view(-1, 28*28)\n",
        "    #all hidden layers + optional batch norm + relu activation\n",
        "    #위에서 만든 층 정리\n",
        "    x = self.fc1(x)\n",
        "    #배치 정규화 여부에 따라 batch_norm 추가 여부 결정\n",
        "    if self.use_batch_norm:\n",
        "      x = self.batch_norm1(x)\n",
        "    x = F.relu(x)\n",
        "    #second layer\n",
        "    x = self.fc2(x)\n",
        "    if self.use_batch_norm:\n",
        "      x = self.batch_norm2(x)\n",
        "    x = F.relu(x)\n",
        "    #third layer, no batch norm or activation\n",
        "    x = self.fc3(x)\n",
        "    return x"
      ],
      "metadata": {
        "id": "hzDL83emmJ0N"
      },
      "execution_count": 9,
      "outputs": []
    },
    {
      "cell_type": "markdown",
      "source": [
        "## Create two different models for testing"
      ],
      "metadata": {
        "id": "gXYI4jRUpz7I"
      }
    },
    {
      "cell_type": "code",
      "source": [
        "#배치 정구화 사용.미사용에 따라 나누어 모델 2개 생성\n",
        "net_batchnorm = NeuralNet(use_batch_norm = True)\n",
        "net_no_norm = NeuralNet(use_batch_norm = False)\n",
        "\n",
        "print(net_batchnorm)\n",
        "print()\n",
        "print(net_no_norm)"
      ],
      "metadata": {
        "colab": {
          "base_uri": "https://localhost:8080/"
        },
        "id": "f5CWfvxZpylc",
        "outputId": "00bdb782-125e-4e70-ea16-93f5e83838ee"
      },
      "execution_count": 10,
      "outputs": [
        {
          "output_type": "stream",
          "name": "stdout",
          "text": [
            "NeuralNet(\n",
            "  (fc1): Linear(in_features=784, out_features=512, bias=False)\n",
            "  (batch_norm1): BatchNorm1d(512, eps=1e-05, momentum=0.1, affine=True, track_running_stats=True)\n",
            "  (fc2): Linear(in_features=512, out_features=256, bias=False)\n",
            "  (batch_norm2): BatchNorm1d(256, eps=1e-05, momentum=0.1, affine=True, track_running_stats=True)\n",
            "  (fc3): Linear(in_features=256, out_features=10, bias=True)\n",
            ")\n",
            "\n",
            "NeuralNet(\n",
            "  (fc1): Linear(in_features=784, out_features=512, bias=True)\n",
            "  (fc2): Linear(in_features=512, out_features=256, bias=True)\n",
            "  (fc3): Linear(in_features=256, out_features=10, bias=True)\n",
            ")\n"
          ]
        }
      ]
    },
    {
      "cell_type": "markdown",
      "source": [
        "## Training"
      ],
      "metadata": {
        "id": "ZHth3Nk1rJ5c"
      }
    },
    {
      "cell_type": "code",
      "source": [
        "def train(model, n_epochs = 10):\n",
        "  #number of epochs to train the model\n",
        "  n_epochs = n_epochs\n",
        "  #track losses\n",
        "  losses = []\n",
        "\n",
        "  #optimization strategy\n",
        "  #specify loss function (categorical cross-entropy) 로스 함수 지정!\n",
        "  criterion = nn.CrossEntropyLoss()\n",
        "\n",
        "  #specify optimizer (stochastic gradient descent) and learning rate = 0.01\n",
        "  #stochastic 경사하강법을 학습률 0.01로 설정\n",
        "  optimizer = torch.optim.SGD(model.parameters(), lr = 0.01)\n",
        "\n",
        "  #set the model to training mode\n",
        "  model.train()\n",
        "\n",
        "  for epoch in range(1, n_epochs + 1):\n",
        "    #monitor training loss\n",
        "    train_loss = 0.0\n",
        "\n",
        "    ###################\n",
        "    # train the model #\n",
        "    ###################\n",
        "    batch_count = 0\n",
        "    for batch_idx, (data, target) in enumerate(train_loader):\n",
        "      #clear the gradients of all optimized variables\n",
        "      #0으로 그래디언트 초기화\n",
        "      optimizer.zero_grad()\n",
        "      #forward pass: compute predicted outputs by passing inputs to the model\n",
        "      #정방향 패스, 예측값 계산해서 넘김\n",
        "      output = model(data)\n",
        "      #calculate the loss, 로스 계산\n",
        "      loss = criterion(output, target)\n",
        "      #backward pass: compute gradient of the loss with respect to model parameters\n",
        "      #역전파 계산\n",
        "      loss.backward()\n",
        "      #perform a single optimization step (parameter update)\n",
        "      #가중치 업데이트!\n",
        "      optimizer.step()\n",
        "      #update average training loss\n",
        "      train_loss += loss.item() #add up avg batch loss\n",
        "      batch_count += 1\n",
        "\n",
        "    #print training statistics\n",
        "    losses.append(train_loss/batch_count)\n",
        "    print('Epoch: {} \\t Training Loss: {:.6f}'.format(epoch, train_loss/batch_count))\n",
        "\n",
        "  #return all recorded batch losses\n",
        "  return losses"
      ],
      "metadata": {
        "id": "cnXadKynrLAG"
      },
      "execution_count": 11,
      "outputs": []
    },
    {
      "cell_type": "markdown",
      "source": [
        "## Comparing Models"
      ],
      "metadata": {
        "id": "cDCBFIkKue_z"
      }
    },
    {
      "cell_type": "code",
      "source": [
        "#batchnorm model losses\n",
        "#this may take some time to train\n",
        "#배치 정규화 적용 모델 학습\n",
        "losses_batchnorm = train(net_batchnorm)"
      ],
      "metadata": {
        "colab": {
          "base_uri": "https://localhost:8080/"
        },
        "id": "Uj90lvSwuguA",
        "outputId": "3b38fd08-b5d5-457e-c7d5-ae11cb0c5871"
      },
      "execution_count": 12,
      "outputs": [
        {
          "output_type": "stream",
          "name": "stdout",
          "text": [
            "Epoch: 1 \t Training Loss: 0.385177\n",
            "Epoch: 2 \t Training Loss: 0.162520\n",
            "Epoch: 3 \t Training Loss: 0.112744\n",
            "Epoch: 4 \t Training Loss: 0.083793\n",
            "Epoch: 5 \t Training Loss: 0.064182\n",
            "Epoch: 6 \t Training Loss: 0.049850\n",
            "Epoch: 7 \t Training Loss: 0.039006\n",
            "Epoch: 8 \t Training Loss: 0.030671\n",
            "Epoch: 9 \t Training Loss: 0.024263\n",
            "Epoch: 10 \t Training Loss: 0.019381\n"
          ]
        }
      ]
    },
    {
      "cell_type": "code",
      "source": [
        "#*no* norm model losses\n",
        "#you should already start to see a difference in training losses\n",
        "#배치 정규화 적용 X 모델 학습\n",
        "losses_no_norm = train(net_no_norm)"
      ],
      "metadata": {
        "colab": {
          "base_uri": "https://localhost:8080/"
        },
        "id": "jWUtjOxfvHkk",
        "outputId": "2b97b9f6-54a1-4906-93a0-9ebcbf79f32a"
      },
      "execution_count": 13,
      "outputs": [
        {
          "output_type": "stream",
          "name": "stdout",
          "text": [
            "Epoch: 1 \t Training Loss: 1.618571\n",
            "Epoch: 2 \t Training Loss: 0.524135\n",
            "Epoch: 3 \t Training Loss: 0.382069\n",
            "Epoch: 4 \t Training Loss: 0.332347\n",
            "Epoch: 5 \t Training Loss: 0.302206\n",
            "Epoch: 6 \t Training Loss: 0.279368\n",
            "Epoch: 7 \t Training Loss: 0.260059\n",
            "Epoch: 8 \t Training Loss: 0.242935\n",
            "Epoch: 9 \t Training Loss: 0.227426\n",
            "Epoch: 10 \t Training Loss: 0.213286\n"
          ]
        }
      ]
    },
    {
      "cell_type": "markdown",
      "source": [
        "확실히 배치 정규화 넣은 모델이 더 성능이 좋다!!"
      ],
      "metadata": {
        "id": "Qr6PBDuvIYEC"
      }
    },
    {
      "cell_type": "code",
      "source": [
        "#compare\n",
        "fig, ax = plt.subplots(figsize = (12, 8))\n",
        "#근데 이 밑에 있는 코드는 대체 왜 적으신 걸까... 넘파이 어레이로 바꿔야 시각화 가능한가...\n",
        "#losses_batchnorm = np.array(losses_batchnorm)\n",
        "#losses_no_norm = np.array(losses_no_norm)\n",
        "plt.plot(losses_batchnorm, label = 'Using batchnorm', alpha = 0.5)\n",
        "plt.plot(losses_no_norm, label = 'No norm', alpha = 0.5)\n",
        "plt.title('Training Losses')\n",
        "plt.legend()"
      ],
      "metadata": {
        "colab": {
          "base_uri": "https://localhost:8080/",
          "height": 483
        },
        "id": "1ZgbJuyvvUCl",
        "outputId": "6a01d1ee-6e0a-4e97-f1c5-f6b7a7d727a2"
      },
      "execution_count": 14,
      "outputs": [
        {
          "output_type": "execute_result",
          "data": {
            "text/plain": [
              "<matplotlib.legend.Legend at 0x7a7efa2750f0>"
            ]
          },
          "metadata": {},
          "execution_count": 14
        },
        {
          "output_type": "display_data",
          "data": {
            "text/plain": [
              "<Figure size 1200x800 with 1 Axes>"
            ],
            "image/png": "[encoded data removed]"
          },
          "metadata": {}
        }
      ]
    },
    {
      "cell_type": "markdown",
      "source": [
        "시각화해서 봐도 배치 정규화한 모델이 훨씬 좋다! 모든 에포크에서!!"
      ],
      "metadata": {
        "id": "B0KIdUtuIoo2"
      }
    },
    {
      "cell_type": "markdown",
      "source": [
        "## Testing"
      ],
      "metadata": {
        "id": "FKJhLj8Kv14u"
      }
    },
    {
      "cell_type": "code",
      "source": [
        "def test(model, train):\n",
        "  #initialize vars to monitor test loss and accuracy\n",
        "  #loss랑 정확도 넣어둘 공간 설정\n",
        "  class_correct = list(0. for i in range(10))\n",
        "  class_total = list(0. for i in range(10))\n",
        "  test_loss = 0.0\n",
        "\n",
        "  #set model to train or evaluation mode\n",
        "  #just to see the difference in behavior\n",
        "  #근데 왜 if else안쓰고 if만 두개 쓴거지...???\n",
        "  if(train == True):\n",
        "    model.train()\n",
        "  if(train == False):\n",
        "    model.eval()\n",
        "\n",
        "  #loss criterion\n",
        "  criterion = nn.CrossEntropyLoss()\n",
        "\n",
        "  for batch_idx, (data, target) in enumerate(test_loader):\n",
        "    #미니배치 크기 저장\n",
        "    batch_size = data.size(0)\n",
        "    #forward pass: compute predicted outputs by passing inputs to the model\n",
        "    output = model(data)\n",
        "    #calculate the loss\n",
        "    loss = criterion(output, target)\n",
        "    #update average test loss\n",
        "    test_loss += loss.item()*batch_size\n",
        "    #convert output probabilities to predicted class\n",
        "    #output 확률 값을 예측 클래스 값으로 변환\n",
        "    #output -> 전자 : 0일 확률, 후자 : 1일 확률 -> 전자가 크면 0이라는 인덱스 반환, 아니면 1이라는 인덱스 반환\n",
        "    #-> 해당 함수로 확률값을 클래스로 변환 가능... 한 것 같음... 허허\n",
        "    _, pred = torch.max(output, 1)\n",
        "    #compare predictions to true label, 차원 맞추기 위해 np.squeeze 사용\n",
        "    correct = np.squeeze(pred.eq(target.data.view_as(pred)))\n",
        "    #calculate test accuracy for each object class\n",
        "    for i in range(batch_size):\n",
        "      label = target.data[i]\n",
        "      class_correct[label] += correct[i].item()\n",
        "      class_total[label] += 1\n",
        "  print('Test Loss: {:.6f}\\n'.format(test_loss/len(test_loader.dataset)))\n",
        "\n",
        "  for i in range(10):\n",
        "    if class_total[i] > 0:\n",
        "      print('Test Accuracy of %5s: %2d%% (%2d/%2d)' %(\n",
        "          str(i), 100*class_correct[i] / class_total[i],\n",
        "          np.sum(class_correct[i]), np.sum(class_total[i])))\n",
        "    else:\n",
        "      print('Test Accuracy of %5s: N/A (no training examples)' %(classes[i]))\n",
        "\n",
        "  print('\\n Test Accuracy (Overall): %2d%% (%2d/%2d)' %(\n",
        "      100.*np.sum(class_correct)/np.sum(class_total),\n",
        "      np.sum(class_correct), np.sum(class_total)))"
      ],
      "metadata": {
        "id": "fpz-0XzLv1Mp"
      },
      "execution_count": 16,
      "outputs": []
    },
    {
      "cell_type": "markdown",
      "source": [
        "## Training and Evaluation Mode"
      ],
      "metadata": {
        "id": "18gZ-5lCzo3J"
      }
    },
    {
      "cell_type": "markdown",
      "source": [
        "배치 정규화 사용 모델 적용  \n",
        "-> **Training mode** means that the batch normalization layers will use batch statistics to calculate the batch norm.  \n",
        " 기존에 있는 배치에 대한 평균, 분산을 사용  \n",
        "-> **Evaluation mode**, on the other hand, uses the estimated population mean and variance from the entire training set, which should give us increased performance on this test data!  \n",
        "전체 학습 데이터로부터 추정된 모평균과 모분산 값을 사용 -> 성능 향상 가능!  "
      ],
      "metadata": {
        "id": "w6a2xnb0LfvE"
      }
    },
    {
      "cell_type": "code",
      "source": [
        "#test batchnorm case, in *train* mode\n",
        "test(net_batchnorm, train = True)"
      ],
      "metadata": {
        "colab": {
          "base_uri": "https://localhost:8080/"
        },
        "id": "zp_cNKgZzq6R",
        "outputId": "23def9f5-567e-4b47-8383-9db22dd7730f"
      },
      "execution_count": 17,
      "outputs": [
        {
          "output_type": "stream",
          "name": "stdout",
          "text": [
            "Test Loss: 0.081082\n",
            "\n",
            "Test Accuracy of     0: 99% (971/980)\n",
            "Test Accuracy of     1: 99% (1127/1135)\n",
            "Test Accuracy of     2: 96% (997/1032)\n",
            "Test Accuracy of     3: 97% (988/1010)\n",
            "Test Accuracy of     4: 97% (957/982)\n",
            "Test Accuracy of     5: 96% (864/892)\n",
            "Test Accuracy of     6: 97% (932/958)\n",
            "Test Accuracy of     7: 97% (1006/1028)\n",
            "Test Accuracy of     8: 96% (943/974)\n",
            "Test Accuracy of     9: 96% (976/1009)\n",
            "\n",
            " Test Accuracy (Overall): 97% (9761/10000)\n"
          ]
        }
      ]
    },
    {
      "cell_type": "code",
      "source": [
        "#test batchnorm case, in *evaluation* mode\n",
        "test(net_batchnorm, train = False)"
      ],
      "metadata": {
        "colab": {
          "base_uri": "https://localhost:8080/"
        },
        "id": "WY0k4r2jz59j",
        "outputId": "7396eb27-6f9d-48e4-e1ef-9272cdc3b08f"
      },
      "execution_count": 18,
      "outputs": [
        {
          "output_type": "stream",
          "name": "stdout",
          "text": [
            "Test Loss: 0.069655\n",
            "\n",
            "Test Accuracy of     0: 99% (971/980)\n",
            "Test Accuracy of     1: 99% (1125/1135)\n",
            "Test Accuracy of     2: 97% (1007/1032)\n",
            "Test Accuracy of     3: 98% (994/1010)\n",
            "Test Accuracy of     4: 97% (959/982)\n",
            "Test Accuracy of     5: 97% (872/892)\n",
            "Test Accuracy of     6: 97% (934/958)\n",
            "Test Accuracy of     7: 96% (997/1028)\n",
            "Test Accuracy of     8: 96% (937/974)\n",
            "Test Accuracy of     9: 98% (990/1009)\n",
            "\n",
            " Test Accuracy (Overall): 97% (9786/10000)\n"
          ]
        }
      ]
    },
    {
      "cell_type": "code",
      "source": [
        "#for posterity, test no norm case in eval mode\n",
        "test(net_no_norm, train = False)"
      ],
      "metadata": {
        "colab": {
          "base_uri": "https://localhost:8080/"
        },
        "id": "VvNMF4om0C68",
        "outputId": "73999f04-3829-49a6-af3f-0a4e0720ad5a"
      },
      "execution_count": 19,
      "outputs": [
        {
          "output_type": "stream",
          "name": "stdout",
          "text": [
            "Test Loss: 0.204612\n",
            "\n",
            "Test Accuracy of     0: 98% (965/980)\n",
            "Test Accuracy of     1: 98% (1114/1135)\n",
            "Test Accuracy of     2: 91% (943/1032)\n",
            "Test Accuracy of     3: 93% (941/1010)\n",
            "Test Accuracy of     4: 93% (914/982)\n",
            "Test Accuracy of     5: 93% (832/892)\n",
            "Test Accuracy of     6: 95% (913/958)\n",
            "Test Accuracy of     7: 92% (954/1028)\n",
            "Test Accuracy of     8: 91% (889/974)\n",
            "Test Accuracy of     9: 93% (940/1009)\n",
            "\n",
            " Test Accuracy (Overall): 94% (9405/10000)\n"
          ]
        }
      ]
    },
    {
      "cell_type": "markdown",
      "source": [
        "배치 정규화 모델이 배치 정규화를 사용하지 않은 모델보다 성능이 좋고,  \n",
        "배치 정규화 모델 중에서도 eval 모델이 더 좋다!"
      ],
      "metadata": {
        "id": "b5H8Yjh5L_Px"
      }
    },
    {
      "cell_type": "code",
      "source": [],
      "metadata": {
        "id": "c-CVRXfXLUD-"
      },
      "execution_count": null,
      "outputs": []
    }
  ]
}