{
  "cells": [
    {
      "cell_type": "code",
      "execution_count": null,
      "metadata": {
        "id": "oQuWeWrJjVlF"
      },
      "outputs": [],
      "source": [
        "%matplotlib inline\n",
        "\n",
        "import numpy as np\n",
        "import torch\n",
        "import matplotlib.pyplot as plt"
      ]
    },
    {
      "cell_type": "code",
      "execution_count": null,
      "metadata": {
        "id": "YBzT9tnUjnvD"
      },
      "outputs": [],
      "source": [
        "from torchvision import datasets\n",
        "import torchvision.transforms as transforms\n",
        "\n",
        "num_workers = 0\n",
        "\n",
        "batch_size = 64\n",
        "\n",
        "transform = transforms.ToTensor()\n",
        "\n",
        "train_data = datasets.MNIST(root = 'data', train = True, download = True, transform = transform)\n",
        "test_data = datasets.MNIST(root = 'data', train = False, download = True, transform = transform)\n",
        "train_loader = torch.utils.data.DataLoader(train_data, batch_size = batch_size, num_workers = num_workers)\n",
        "test_loader = torch.utils.data.DataLoader(test_data, batch_size = batch_size, num_workers = num_workers)"
      ]
    },
    {
      "cell_type": "code",
      "execution_count": null,
      "metadata": {
        "id": "5aPgf7JAqwbv"
      },
      "outputs": [],
      "source": [
        "dataiter = iter(train_loader)\n",
        "images, labels = dataiter.next()\n",
        "images = images.numpy()\n",
        "\n",
        "img = np.squeeze(images[0])\n",
        "fig = plt.figure(figsize = (3, 3))\n",
        "ax = fig.add_subplot(111)\n",
        "ax.imshow(img, cmap = 'gray')"
      ]
    },
    {
      "cell_type": "code",
      "execution_count": null,
      "metadata": {
        "id": "pmGs1n3qrEQb"
      },
      "outputs": [],
      "source": [
        "import torch.nn as nn\n",
        "import torch.nn.functional as F\n",
        "\n",
        "class NeuralNet(nn.Module):\n",
        "  def __init__(self, use_batch_norm, input_size = 784, hidden_dim = 256, output_size = 10):\n",
        "    super(NeuralNet, self).__init__()\n",
        "\n",
        "    self.input_size = input_size\n",
        "    self.hidden_dim = hidden_dim\n",
        "    self.output_size = output_size\n",
        "\n",
        "    self.use_batch_norm = use_batch_norm\n",
        "\n",
        "    if use_batch_norm:\n",
        "      self.fc1 = nn.Linear(input_size, hidden_dim*2, bias = False)\n",
        "      self.batch_norm1 = nn.BatchNorm1d(hidden_dim*2)\n",
        "    else:\n",
        "      self.fc1 = nn.Linear(input_size, hidden_dim*2)\n",
        "\n",
        "    if use_batch_norm:\n",
        "      self.fc2 = nn.Linear(input_size, hidden_dim*2, bias = False)\n",
        "      self.batch_norm2 = nn.BatchNorm1d(hidden_dim*2)\n",
        "    else:\n",
        "      self.fc2 = nn.Linear(input_size, hidden_dim*2)\n",
        "\n",
        "    self.fc3 = nn.Linear(hidden_dim, output_size)\n",
        "\n",
        "  def forward(self, x):\n",
        "    x = x.view(-1, 28*28)\n",
        "    x = self.fc1(x)\n",
        "    if self.use_batch_norm:\n",
        "      x = self.batch_norm1(x)\n",
        "    x = F.relu(x)\n",
        "\n",
        "    x = self.fc2(x)\n",
        "    if self.use_batch_norm:\n",
        "      x = self.batch_norm2(x)\n",
        "    x = F.relu(x)\n",
        "\n",
        "    x = self.fc3(x)\n",
        "    return x"
      ]
    },
    {
      "cell_type": "code",
      "execution_count": null,
      "metadata": {
        "id": "XFwyC3Gesfgw"
      },
      "outputs": [],
      "source": [
        "net_batchnorm = NeuralNet(use_batch_norm=True)\n",
        "net_no_norm = NeuralNet(use_batch_norm=False)\n",
        "\n",
        "print(net_batchnorm)\n",
        "print()\n",
        "print(net_no_norm)"
      ]
    },
    {
      "cell_type": "code",
      "execution_count": null,
      "metadata": {
        "id": "g_0asZ1lsjFI"
      },
      "outputs": [],
      "source": [
        "def train(model, n_epochs=10):\n",
        "  n_epochs = n_epochs\n",
        "  losses = []\n",
        "\n",
        "  criterion = nn.CrossEntropyLoss()\n",
        "\n",
        "  optimizer = torch.optim.SGD(model.parameters(), lr = 0.01)\n",
        "\n",
        "  model.train()\n",
        "\n",
        "  for epoch in range(1, n_epochs+1):\n",
        "    train_loss = 0.0\n",
        "\n",
        "    batch_count = 0\n",
        "    for batch_idx, (data, target) in enumerate(train_loader):\n",
        "      optimizer.zero_grad()\n",
        "      output = model(data)\n",
        "\n",
        "      loss = criterion(output, target)\n",
        "\n",
        "      loss.backward()\n",
        "\n",
        "      optimizer.step()\n",
        "\n",
        "      train_loss += loss.item()\n",
        "      batch_count += 1\n",
        "\n",
        "    losses.append(train_loss/batch_count)\n",
        "    print('Epoch: {} \\tTraining Loss: {:.6f}'.format(\n",
        "        epoch,\n",
        "        train_loss/batch_count))\n",
        "\n",
        "  return losses"
      ]
    },
    {
      "cell_type": "code",
      "execution_count": null,
      "metadata": {
        "id": "gGU21TGltol9"
      },
      "outputs": [],
      "source": [
        "losses_batchnorm = train(net_batchnorm)\n",
        "\n",
        "losses_no_norm = train(net_no_norm)"
      ]
    },
    {
      "cell_type": "code",
      "execution_count": null,
      "metadata": {
        "id": "7JR_HJOmtwQ-"
      },
      "outputs": [],
      "source": [
        "fig, ax = plt.subplots(figsize = (12,8))\n",
        "\n",
        "plt.plot(losses_batchnorm, label = 'Using batchnorm', alpha = 0.5)\n",
        "plt.plot(losses_no_norm, label = 'No norm', alpha = 0.5)\n",
        "plt.title(\"Training Losses\")\n",
        "plt.legend()"
      ]
    },
    {
      "cell_type": "code",
      "execution_count": null,
      "metadata": {
        "id": "pUFdtqpIuB9s"
      },
      "outputs": [],
      "source": [
        "def test(model, train):\n",
        "  class_correct = list(0. for i in range(10))\n",
        "  class_total = list(0. for i in range(10))\n",
        "  test_loss = 0.0\n",
        "\n",
        "  if(train == True):\n",
        "    model.train()\n",
        "  if(train == False):\n",
        "    model.eval()\n",
        "\n",
        "  criterion = nn.CrossEntropyLoss()\n",
        "\n",
        "  for batch_idx, (data, target) in enumerate(test_loader):\n",
        "    batch_size = data.size(0)\n",
        "    output = model(data)\n",
        "    loss = criterion(output, target)\n",
        "    test_loss += loss.item()*batch_size\n",
        "    _, pred = torch.max(output, 1)\n",
        "    correct = np.squeeze(pred.eq(target.data.view_as(pred)))\n",
        "    for i in range(batch_size):\n",
        "      label = target.data[i]\n",
        "      class_correct[label] += correct[i].item()\n",
        "      class_total[label] += 1\n",
        "\n",
        "  print('Test Loss: {:.6f}\\n'.format(test_loss/len(test_loader.dataset)))\n",
        "\n",
        "  for i in range(10):\n",
        "    if class_total[i] > 0:\n",
        "      print('Test Accuracy of %5s: %2d%% (%2d/%2d)' % (\n",
        "          str(i), 100 * class_correct[i] / class_total[i],\n",
        "          np.sum(class_correct[i]), np.sum(class_total[i])))\n",
        "    else:\n",
        "      print('Test Accuracy of %5s: N/A (no training examples)' % (classes[i]))\n",
        "  print('\\nTest Accuracy (Overall): %2d%% (%2d/%2d)' % (\n",
        "      100. * np.sum(class_correct) / np.sum(class_total),\n",
        "      np.sum(class_correct), np.sum(class_total)))"
      ]
    },
    {
      "cell_type": "code",
      "execution_count": null,
      "metadata": {
        "id": "RMoX1xfyvulN"
      },
      "outputs": [],
      "source": [
        "test(net_batchnorm, train=True)"
      ]
    },
    {
      "cell_type": "code",
      "execution_count": null,
      "metadata": {
        "id": "QqpbcjWpvxrz"
      },
      "outputs": [],
      "source": [
        "test(net_batchnorm, train=False)"
      ]
    },
    {
      "cell_type": "code",
      "execution_count": null,
      "metadata": {
        "id": "ASMUqQX3v0a6"
      },
      "outputs": [],
      "source": [
        "test(net_no_norm, train = False)"
      ]
    }
  ],
  "metadata": {
    "colab": {
      "provenance": [],
      "gpuType": "T4"
    },
    "kernelspec": {
      "display_name": "Python 3",
      "name": "python3"
    },
    "language_info": {
      "name": "python"
    },
    "accelerator": "GPU"
  },
  "nbformat": 4,
  "nbformat_minor": 0
}