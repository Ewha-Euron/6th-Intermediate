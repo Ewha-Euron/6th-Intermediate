{
  "nbformat": 4,
  "nbformat_minor": 0,
  "metadata": {
    "colab": {
      "provenance": []
    },
    "kernelspec": {
      "name": "python3",
      "display_name": "Python 3"
    },
    "language_info": {
      "name": "python"
    }
  },
  "cells": [
    {
      "cell_type": "markdown",
      "source": [
        "## Introduction\n",
        "### 왜 딥러닝인가  \n",
        " 데이터의 양이 증가할 때, 머신러닝의 performance가 더 이상 많이 증가하지 않는 상황이 오지만, 딥러닝은 계속 증가한다.\n",
        "\n",
        "### 머신러닝과 딥러닝의 차이는 무엇인가.  \n",
        "- 머신러닝은 딥러닝을 포함한다.  \n",
        "- 머신러닝에서는 feautres manually 주어지지만, 딥러닝에서는 데이터로부터 directly 하게 학습한다."
      ],
      "metadata": {
        "id": "faS9DboJqlQN"
      }
    },
    {
      "cell_type": "markdown",
      "source": [
        "## Overview the Data Set"
      ],
      "metadata": {
        "id": "5e-9HuLnUseO"
      }
    },
    {
      "cell_type": "code",
      "source": [
        "from google.colab import drive\n",
        "drive.mount('/content/drive')"
      ],
      "metadata": {
        "colab": {
          "base_uri": "https://localhost:8080/"
        },
        "id": "7RLlCucrM2mq",
        "outputId": "d167c552-e251-4198-a526-24e90a9b47af"
      },
      "execution_count": 6,
      "outputs": [
        {
          "output_type": "stream",
          "name": "stdout",
          "text": [
            "Mounted at /content/drive\n"
          ]
        }
      ]
    },
    {
      "cell_type": "code",
      "source": [
        "import numpy as np\n",
        "import pandas as pd\n",
        "import matplotlib.pyplot as plt\n",
        "import warnings\n",
        "warnings.filterwarnings('ignore')"
      ],
      "metadata": {
        "id": "StvucH4CLGko"
      },
      "execution_count": 21,
      "outputs": []
    },
    {
      "cell_type": "code",
      "source": [
        "x_l=np.load('/content/drive/MyDrive/Euron/week2/X.npy')\n",
        "y_l=np.load('/content/drive/MyDrive/Euron/week2/Y.npy')\n",
        "img_size=64\n",
        "plt.subplot(1,2,1)\n",
        "plt.imshow(x_l[260].reshape(img_size,img_size))\n",
        "plt.axis('off')\n",
        "plt.subplot(1,2,2)\n",
        "plt.imshow(x_l[900].reshape(img_size, img_size))\n",
        "plt.axis('off')"
      ],
      "metadata": {
        "colab": {
          "base_uri": "https://localhost:8080/",
          "height": 280
        },
        "id": "WjrWV1hPL1lI",
        "outputId": "118bb313-fb3a-4fcf-8f50-4df79513ab63"
      },
      "execution_count": 46,
      "outputs": [
        {
          "output_type": "execute_result",
          "data": {
            "text/plain": [
              "(-0.5, 63.5, 63.5, -0.5)"
            ]
          },
          "metadata": {},
          "execution_count": 46
        },
        {
          "output_type": "display_data",
          "data": {
            "text/plain": [
              "<Figure size 640x480 with 2 Axes>"
            ],
            "image/png": "[encoded data removed]"
          },
          "metadata": {}
        }
      ]
    },
    {
      "cell_type": "markdown",
      "source": [
        "`plt.subplot(x,y,x)` : x: 플롯을 포함할 행의 수, y: 플롯을 포함할 열의 수, z: 현재 활성화될 서브플롯의 위치\n",
        "\n",
        "`reshape` : NumPy 라이브러리의 기능으로, 배열의 구조를 변경하지 않고, 주어진 차원으로 배열의 형태를 변경하는 데 사용"
      ],
      "metadata": {
        "id": "zcAeFgkWNyk8"
      }
    },
    {
      "cell_type": "markdown",
      "source": [
        "> 라벨이 붙어있는 데이터로 만들자"
      ],
      "metadata": {
        "id": "c-apYGznUP3k"
      }
    },
    {
      "cell_type": "code",
      "source": [
        "#너무 많으니 좀 뜯어오자\n",
        "X=np.concatenate((x_l[204:409],x_l[822:1027]),axis=0)\n",
        "#X의 0부터 204는 0인 사인, 205부터 410까지는 1인 사인.\n",
        "z=np.zeros(205)\n",
        "o=np.ones(205)\n",
        "\n",
        "Y=np.concatenate((z,o),axis=0).reshape(X.shape[0],1) # 뒤에 reshape 안 붙이면, (410,)라고 뒤의 차원이 열려 있음\n",
        "print(\"X shape: \", X.shape)\n",
        "print(\"Y shape: \", Y.shape)\n",
        "print(Y.shape)"
      ],
      "metadata": {
        "colab": {
          "base_uri": "https://localhost:8080/"
        },
        "id": "8q-0r-FIUegU",
        "outputId": "439f3f03-d46b-4902-97d5-925f55595ef8"
      },
      "execution_count": 47,
      "outputs": [
        {
          "output_type": "stream",
          "name": "stdout",
          "text": [
            "X shape:  (410, 64, 64)\n",
            "Y shape:  (410, 1)\n",
            "(410, 1)\n"
          ]
        }
      ]
    },
    {
      "cell_type": "markdown",
      "source": [
        "`X.shape`: np에서 array의 차원이 궁금할 때"
      ],
      "metadata": {
        "id": "OgCj63-UWsEv"
      }
    },
    {
      "cell_type": "markdown",
      "source": [
        "> X와 Y를 train, test sets로 나누자"
      ],
      "metadata": {
        "id": "vaI6Jw57WyjU"
      }
    },
    {
      "cell_type": "code",
      "source": [
        "from sklearn.model_selection import train_test_split\n",
        "X_train, X_test, Y_train, Y_test= train_test_split(X,Y,test_size=0.15, random_state=42)\n",
        "number_of_train=X_train.shape[0]\n",
        "number_of_test=X_test.shape[0]"
      ],
      "metadata": {
        "id": "31KZGLu6XBEf"
      },
      "execution_count": 48,
      "outputs": []
    },
    {
      "cell_type": "markdown",
      "source": [
        "`random_state`를 잡는 이유: 다시 반복시켰을 때 같은 방식으로 나눌 수 있도록"
      ],
      "metadata": {
        "id": "fh0Avg04Xi4m"
      }
    },
    {
      "cell_type": "markdown",
      "source": [
        "- 데이터를 train, test 로 나누는 방법  \n",
        "1) 라이브러리 불러오기\n",
        "`from sklearn.model_selection import train_test_split`  \n",
        "2) 코드 작성\n",
        "`X_train, X_test, Y_train, Y_test= train_test_split(X,Y,test_size=0.15, random_state=42)`  \n",
        "  \n",
        "`random_state`를 잡는 이유: 다시 반복시켰을 때 같은 방식으로 나눌 수 있도록"
      ],
      "metadata": {
        "id": "GueS4YcAXw8P"
      }
    },
    {
      "cell_type": "markdown",
      "source": [
        "> flatten 해주기"
      ],
      "metadata": {
        "id": "1ffRA1rMZqpt"
      }
    },
    {
      "cell_type": "code",
      "source": [
        "X_train_flatten=X_train.reshape(number_of_train, X_train.shape[1]*X_train.shape[2])\n",
        "X_test_flatten=X_test.reshape(number_of_test, X_test.shape[1]* X_test.shape[2])\n",
        "print(\"X train flatten\", X_train_flatten.shape)\n",
        "print(\"X test flatten\", X_test_flatten.shape)"
      ],
      "metadata": {
        "colab": {
          "base_uri": "https://localhost:8080/"
        },
        "id": "glOZA3eSYNnb",
        "outputId": "a042f303-c958-484d-b299-8745a35f7c0f"
      },
      "execution_count": 49,
      "outputs": [
        {
          "output_type": "stream",
          "name": "stdout",
          "text": [
            "X train flatten (348, 4096)\n",
            "X test flatten (62, 4096)\n"
          ]
        }
      ]
    },
    {
      "cell_type": "markdown",
      "source": [
        " input array (X) 가 3차원이기 때문에 첫번째 딥러닝 모델의 input으로 넣어주기 위해서는 2차원으로 flatten 시켜 줘야 함  \n",
        "   \n",
        " flatten한다는 의미는 각 픽셀의 이름을 읽어준다는 것."
      ],
      "metadata": {
        "id": "yRLSi_NgZ9KC"
      }
    },
    {
      "cell_type": "markdown",
      "source": [
        "> Transpose 해주기"
      ],
      "metadata": {
        "id": "LWkxH4l2aT3D"
      }
    },
    {
      "cell_type": "code",
      "source": [
        "#왜 전치 시키지?-> 필자가 하고 싶다고 함.\n",
        "x_train=X_train_flatten.T\n",
        "x_test=X_test_flatten.T\n",
        "y_train=Y_train.T\n",
        "y_test=Y_test.T\n",
        "print(\"x train: \", x_train.shape)\n",
        "print(\"x test: \", x_test.shape)\n",
        "print(\"y train: \", y_train.shape)\n",
        "print(\"y test: \", y_test.shape)"
      ],
      "metadata": {
        "colab": {
          "base_uri": "https://localhost:8080/"
        },
        "id": "3V22Vvo0aZ31",
        "outputId": "31eae9f4-fdf9-4de0-aafa-e1ea42336edd"
      },
      "execution_count": 50,
      "outputs": [
        {
          "output_type": "stream",
          "name": "stdout",
          "text": [
            "x train:  (4096, 348)\n",
            "x test:  (4096, 62)\n",
            "y train:  (1, 348)\n",
            "y test:  (1, 62)\n"
          ]
        }
      ]
    },
    {
      "cell_type": "markdown",
      "source": [
        "## Logistic Regression"
      ],
      "metadata": {
        "id": "o0MdI3AHa5_6"
      }
    },
    {
      "cell_type": "markdown",
      "source": [
        "> logistic regression은 매우 간단한 형태의 neural network이다!"
      ],
      "metadata": {
        "id": "eEubZdi-bOrK"
      }
    },
    {
      "cell_type": "markdown",
      "source": [
        "- 파라미터: weight, bias  \n",
        "Weights: 각 pixels의 coefficient\n",
        "Bias: intercept\n",
        "\n",
        "- z = (w.t)x + b  \n",
        " => z = b + px1w1 + px2w2 + ... + px4096*w4096\n",
        "y_head = sigmoid(z)  \n",
        " =>4096개의 픽셀이 모두 추론 하게 하는 변수로 들어감\n",
        ""
      ],
      "metadata": {
        "id": "BB6O2waucN6b"
      }
    },
    {
      "cell_type": "markdown",
      "source": [
        "- 마지막에 sigmoid function을 씌우는 이유는?  \n",
        "  0과 1사이의 결과가 나오게 하기 위함."
      ],
      "metadata": {
        "id": "MblzQHt5c_UW"
      }
    },
    {
      "cell_type": "markdown",
      "source": [
        "> Initializing parameters"
      ],
      "metadata": {
        "id": "HykMzmcddiPH"
      }
    },
    {
      "cell_type": "markdown",
      "source": [
        "다양한 테크닉이 있지만 여기서는 기본적으로 weights는 0.01로, bias는 0으로 초기화하자"
      ],
      "metadata": {
        "id": "5coQt2f2dlYh"
      }
    },
    {
      "cell_type": "code",
      "source": [
        "def initialize_weights_and_bias(dimension):\n",
        "  w=np.full((dimension,1),0.01)\n",
        "  b=0.0\n",
        "  return w,b"
      ],
      "metadata": {
        "id": "rhRq-uwJduOy"
      },
      "execution_count": 51,
      "outputs": []
    },
    {
      "cell_type": "markdown",
      "source": [
        "`np.full((dimension,1),0.01)`: dimension x 1 크기의 배열을 생성-> 배열의 모든 요소를 0.01로 초기화"
      ],
      "metadata": {
        "id": "M2_Atrw1eKcZ"
      }
    },
    {
      "cell_type": "markdown",
      "source": [
        "> Forward Propagation"
      ],
      "metadata": {
        "id": "IB3ozDGPeCi6"
      }
    },
    {
      "cell_type": "code",
      "source": [
        "# 시그모이드함수 정의\n",
        "def sigmoid(z):\n",
        "  y_head=1/(1+np.exp(-z))\n",
        "  return y_head"
      ],
      "metadata": {
        "id": "E42q1aK8eugG"
      },
      "execution_count": 52,
      "outputs": []
    },
    {
      "cell_type": "code",
      "source": [
        "# 순전파 정의\n",
        "def forward_propagation(w,b,x_train, y_train):\n",
        "  z=np.dot(w.T,x_train)+b #받아온 초기 w에 x곱하고 b 더해줌.\n",
        "  y_head=sigmoid(z)\n",
        "  loss=-y_train*np.log(y_head)-(1-y_train)*np.log(1-y_head) #손실함수 정의하기\n",
        "  cost=(np.sum(loss))/x_train.shape[1] #비용함수 정의\n",
        "  return cost"
      ],
      "metadata": {
        "id": "MfctMjqOe3xB"
      },
      "execution_count": 53,
      "outputs": []
    },
    {
      "cell_type": "markdown",
      "source": [
        "> Optimization Algorighm with Gradient Descent"
      ],
      "metadata": {
        "id": "yHMRXGgCgDT8"
      }
    },
    {
      "cell_type": "markdown",
      "source": [
        "- cost를 줄이기 위해서는 임의로 잡인 weights와 bia를 update해줘야 함.\n",
        "$$\n",
        "w := w - \\alpha \\frac{\\partial J(w,b)}{\\partial w}\n",
        "$$\n",
        "여기서 $\\alpha$는 하이퍼 파리미터라고 하기도 함."
      ],
      "metadata": {
        "id": "EMlmcwIKgHL8"
      }
    },
    {
      "cell_type": "markdown",
      "source": [
        "\n",
        "- $z = w^Tx + b$\n",
        "- $\\hat{y} = a = \\sigma(z)$           →           $\\frac{da}{dz}=a(1-a)$\n",
        "- $\\mathcal{L}(a, y) = -(y \\log(a) + (1 - y) \\log(1 - a))$       \n",
        "  -> $\\frac{dL}{da} = \\frac{-y}{a} + \\frac{1 - y}{1 - a}$  \n",
        "  -> $\\frac{dL}{dz}=\\frac{dL}{da} \\times \\frac{da}{dz}=a-y$\n",
        "\n",
        "- 결론적으로 구하고 싶은 $\\frac{dL}{dw}$과 $\\frac{dL}{db}$ 를 Chain rule을 통해서 구하면 아래와 같다.                                      $\\frac{dL}{dw}=x \\times (a-y)$,    $\\frac{dL}{db}=a-y$\n"
      ],
      "metadata": {
        "id": "1AwksB_ihYzK"
      }
    },
    {
      "cell_type": "code",
      "source": [
        "#forward propagation 과 backward propagation 합쳐주기\n",
        "def forward_backward_propagation(w,b,x_train, y_train):\n",
        "  #forward propagation\n",
        "  z=np.dot(w.T,x_train)+b\n",
        "  y_head=sigmoid(z)\n",
        "  loss=-y_train*np.log(y_head)-(1-y_train)*np.log(1-y_head)\n",
        "  cost=(np.sum(loss))/x_train.shape[1]\n",
        "\n",
        "  #backward propagation\n",
        "  derivative_weight=(np.dot(x_train, ((y_head-y_train).T)))/x_train.shape[1]\n",
        "  derivative_bias=np.sum(y_head-y_train)/x_train.shape[1] #x_train.shape[1]로 나누는 것은 scaling을 위함4\n",
        "  gradients={\"derivative_weight\": derivative_weight, \"derivative_bias\": derivative_bias} #딕셔너리로 넣어주기\n",
        "  return cost, gradients"
      ],
      "metadata": {
        "id": "0-gDZ7RCh9Ur"
      },
      "execution_count": 54,
      "outputs": []
    },
    {
      "cell_type": "markdown",
      "source": [
        "업데이트 하는 매 시점의 계산할 것들 계산하고 미분한 값까지 계산."
      ],
      "metadata": {
        "id": "eU_LbOehjemd"
      }
    },
    {
      "cell_type": "code",
      "source": [
        "#updating(learning) parameters\n",
        "def update(w, b, x_train, y_train, learning_rate, number_of_iteration):\n",
        "  cost_list=[]\n",
        "  cost_list2=[]\n",
        "  index=[]\n",
        "\n",
        "  #number_of_iteration의 의미는 각 파라미터 업데이트하려는 횟수\n",
        "  for i in range(number_of_iteration):\n",
        "    cost, gradients=forward_backward_propagation(w,b,x_train, y_train)\n",
        "    cost_list.append(cost) #기록해두기\n",
        "\n",
        "    #파라미터 업데이트 해주기\n",
        "    w=w-learning_rate*gradients[\"derivative_weight\"]\n",
        "    b=b-learning_rate*gradients[\"derivative_bias\"]\n",
        "\n",
        "    if i%10==0:\n",
        "      cost_list2.append(cost)\n",
        "      index.append(i) #10번의 한번 꼴로 손실함수 값 새롭게 기록해주기\n",
        "      print (\"Cost after iteration %i: %f\" %(i, cost))\n",
        "\n",
        "\n",
        "    #업데이트 끝!\n",
        "  parameters={\"weight\": w, \"bias\": b} #마지막 업데이트 한 것 까지 반영\n",
        "  plt.plot(index, cost_list2)\n",
        "  plt.xticks(index, rotation='vertical')\n",
        "  plt.xlabel(\"Number of Iteration\")\n",
        "  plt.ylabel(\"Cost\")\n",
        "  plt.show()\n",
        "  return parameters, gradients, cost_list\n",
        "\n",
        "\n"
      ],
      "metadata": {
        "id": "4DuzFKu8jpGu"
      },
      "execution_count": 58,
      "outputs": []
    },
    {
      "cell_type": "markdown",
      "source": [
        "> 이제 예측해보자!"
      ],
      "metadata": {
        "id": "dTW4Q7nAluqL"
      }
    },
    {
      "cell_type": "code",
      "source": [
        "#가지고 있는 파라미터들로 x_test의 y_test값을 예측해보자\n",
        "def predict(w, b, x_test):\n",
        "  z=sigmoid(np.dot(w.T,x_test)+b) #시그모이드 함수 넣어줘서 0-1 범위로 만들기\n",
        "  Y_prediction=np.zeros((1, x_test.shape[1]))\n",
        "  for i in range(z.shape[1]):\n",
        "    if z[0,i]<=0.5:\n",
        "      Y_prediction[0,i]=0\n",
        "    else:\n",
        "      Y_prediction[0,i]=1\n",
        "\n",
        "  return Y_prediction\n"
      ],
      "metadata": {
        "id": "uuMJEucGl2Ti"
      },
      "execution_count": 56,
      "outputs": []
    },
    {
      "cell_type": "markdown",
      "source": [
        "> 전체 함수를 만들어 정의 해보자"
      ],
      "metadata": {
        "id": "ul82uiZQm1GQ"
      }
    },
    {
      "cell_type": "code",
      "source": [
        "def logistic_regression(x_train, y_train, x_test, y_test, learning_rate, num_iterations):\n",
        "  #초기화\n",
        "  dimension=x_train.shape[0]\n",
        "  w,b=initialize_weights_and_bias(dimension)\n",
        "\n",
        "  parameters, gradients, cost_list=update(w, b, x_train, y_train, learning_rate, num_iterations)\n",
        "\n",
        "  y_prediction_test=predict(parameters[\"weight\"],parameters[\"bias\"],x_test)\n",
        "  y_prediction_train=predict(parameters[\"weight\"],parameters[\"bias\"],x_train)\n",
        "\n",
        "  #오차 출력으로 성능 평가\n",
        "  print(\"train accuracy: {} %\".format(100-np.mean(np.abs(y_prediction_train-y_train))*100))\n",
        "  print(\"test accuracy: {} %\".format(100-np.mean(np.abs(y_prediction_test-y_test))*100))\n",
        "\n",
        "logistic_regression(x_train, y_train, x_test, y_test, learning_rate=0.01, num_iterations=150)\n"
      ],
      "metadata": {
        "colab": {
          "base_uri": "https://localhost:8080/",
          "height": 766
        },
        "id": "QhklgOd2mzGM",
        "outputId": "98619bb9-f6fe-4043-8244-f8d941b9fa8f"
      },
      "execution_count": 59,
      "outputs": [
        {
          "output_type": "stream",
          "name": "stdout",
          "text": [
            "Cost after iteration 0: 14.014222\n",
            "Cost after iteration 10: 2.544689\n",
            "Cost after iteration 20: 2.577950\n",
            "Cost after iteration 30: 2.397999\n",
            "Cost after iteration 40: 2.185019\n",
            "Cost after iteration 50: 1.968348\n",
            "Cost after iteration 60: 1.754195\n",
            "Cost after iteration 70: 1.535079\n",
            "Cost after iteration 80: 1.297567\n",
            "Cost after iteration 90: 1.031919\n",
            "Cost after iteration 100: 0.737019\n",
            "Cost after iteration 110: 0.441355\n",
            "Cost after iteration 120: 0.252278\n",
            "Cost after iteration 130: 0.205168\n",
            "Cost after iteration 140: 0.196168\n"
          ]
        },
        {
          "output_type": "display_data",
          "data": {
            "text/plain": [
              "<Figure size 640x480 with 1 Axes>"
            ],
            "image/png": "[encoded data removed]"
          },
          "metadata": {}
        },
        {
          "output_type": "stream",
          "name": "stdout",
          "text": [
            "train accuracy: 92.816091954023 %\n",
            "test accuracy: 93.54838709677419 %\n"
          ]
        }
      ]
    },
    {
      "cell_type": "markdown",
      "source": [
        "# Logistic Regression with Sklearn\n",
        "라이브러리에 직접 정의하고 쓰지 않아도 되도록 정의해 두었음."
      ],
      "metadata": {
        "id": "4f4T_vpJp15k"
      }
    },
    {
      "cell_type": "code",
      "source": [
        "from sklearn import linear_model\n",
        "logreg=linear_model.LogisticRegression(random_state=42, max_iter=150)\n",
        "print(\"test accuracy: {}\".format(logreg.fit(x_train.T, y_train.T).score(x_test.T,y_test.T)))\n",
        "print(\"test accuracy: {}\".format(logreg.fit(x_train.T, y_train.T).score(x_train.T,y_train.T)))\n"
      ],
      "metadata": {
        "colab": {
          "base_uri": "https://localhost:8080/"
        },
        "id": "6YAoctjpp9d-",
        "outputId": "aa2d1be2-5ee3-4e1b-a78d-8b2cbdf0b3cf"
      },
      "execution_count": 60,
      "outputs": [
        {
          "output_type": "stream",
          "name": "stdout",
          "text": [
            "test accuracy: 0.967741935483871\n",
            "test accuracy: 1.0\n"
          ]
        }
      ]
    }
  ]
}