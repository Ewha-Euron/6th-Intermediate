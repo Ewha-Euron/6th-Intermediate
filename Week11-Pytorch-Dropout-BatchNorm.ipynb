{
 "cells": [
  {
   "cell_type": "markdown",
   "id": "89e26f08",
   "metadata": {
    "papermill": {
     "duration": 0.007918,
     "end_time": "2024-05-19T16:00:47.933605",
     "exception": false,
     "start_time": "2024-05-19T16:00:47.925687",
     "status": "completed"
    },
    "tags": []
   },
   "source": [
    "# Prepare dataset"
   ]
  },
  {
   "cell_type": "code",
   "execution_count": 1,
   "id": "c8811957",
   "metadata": {
    "execution": {
     "iopub.execute_input": "2024-05-19T16:00:47.949788Z",
     "iopub.status.busy": "2024-05-19T16:00:47.949306Z",
     "iopub.status.idle": "2024-05-19T16:00:48.953736Z",
     "shell.execute_reply": "2024-05-19T16:00:48.952607Z"
    },
    "papermill": {
     "duration": 1.015298,
     "end_time": "2024-05-19T16:00:48.956507",
     "exception": false,
     "start_time": "2024-05-19T16:00:47.941209",
     "status": "completed"
    },
    "tags": []
   },
   "outputs": [
    {
     "name": "stdout",
     "output_type": "stream",
     "text": [
      "['train.csv', 'test.csv', 'gender_submission.csv']\n"
     ]
    }
   ],
   "source": [
    "import numpy as np\n",
    "import pandas as pd \n",
    "\n",
    "import os\n",
    "print(os.listdir(\"../input/titanic\"))"
   ]
  },
  {
   "cell_type": "code",
   "execution_count": 2,
   "id": "a4dafd2d",
   "metadata": {
    "execution": {
     "iopub.execute_input": "2024-05-19T16:00:48.971655Z",
     "iopub.status.busy": "2024-05-19T16:00:48.971178Z",
     "iopub.status.idle": "2024-05-19T16:00:49.006047Z",
     "shell.execute_reply": "2024-05-19T16:00:49.004903Z"
    },
    "papermill": {
     "duration": 0.045501,
     "end_time": "2024-05-19T16:00:49.008642",
     "exception": false,
     "start_time": "2024-05-19T16:00:48.963141",
     "status": "completed"
    },
    "tags": []
   },
   "outputs": [],
   "source": [
    "# read to DataFrame\n",
    "train = pd.read_csv('/kaggle/input/titanic/train.csv')\n",
    "test = pd.read_csv('/kaggle/input/titanic/test.csv')\n",
    "# submission = pd.read_csv('/kaggle/input/titanic/gender_submission.csv')"
   ]
  },
  {
   "cell_type": "code",
   "execution_count": 3,
   "id": "c85d903d",
   "metadata": {
    "execution": {
     "iopub.execute_input": "2024-05-19T16:00:49.024308Z",
     "iopub.status.busy": "2024-05-19T16:00:49.023371Z",
     "iopub.status.idle": "2024-05-19T16:00:49.029259Z",
     "shell.execute_reply": "2024-05-19T16:00:49.028005Z"
    },
    "papermill": {
     "duration": 0.016216,
     "end_time": "2024-05-19T16:00:49.031657",
     "exception": false,
     "start_time": "2024-05-19T16:00:49.015441",
     "status": "completed"
    },
    "tags": []
   },
   "outputs": [
    {
     "name": "stdout",
     "output_type": "stream",
     "text": [
      "(891, 12)\n",
      "(418, 11)\n"
     ]
    }
   ],
   "source": [
    "print(train.shape)\n",
    "print(test.shape)"
   ]
  },
  {
   "cell_type": "code",
   "execution_count": 4,
   "id": "ac4487fd",
   "metadata": {
    "execution": {
     "iopub.execute_input": "2024-05-19T16:00:49.046831Z",
     "iopub.status.busy": "2024-05-19T16:00:49.046463Z",
     "iopub.status.idle": "2024-05-19T16:00:49.076553Z",
     "shell.execute_reply": "2024-05-19T16:00:49.075425Z"
    },
    "papermill": {
     "duration": 0.040574,
     "end_time": "2024-05-19T16:00:49.079032",
     "exception": false,
     "start_time": "2024-05-19T16:00:49.038458",
     "status": "completed"
    },
    "tags": []
   },
   "outputs": [
    {
     "data": {
      "text/html": [
       "<div>\n",
       "<style scoped>\n",
       "    .dataframe tbody tr th:only-of-type {\n",
       "        vertical-align: middle;\n",
       "    }\n",
       "\n",
       "    .dataframe tbody tr th {\n",
       "        vertical-align: top;\n",
       "    }\n",
       "\n",
       "    .dataframe thead th {\n",
       "        text-align: right;\n",
       "    }\n",
       "</style>\n",
       "<table border=\"1\" class=\"dataframe\">\n",
       "  <thead>\n",
       "    <tr style=\"text-align: right;\">\n",
       "      <th></th>\n",
       "      <th>PassengerId</th>\n",
       "      <th>Survived</th>\n",
       "      <th>Pclass</th>\n",
       "      <th>Name</th>\n",
       "      <th>Sex</th>\n",
       "      <th>Age</th>\n",
       "      <th>SibSp</th>\n",
       "      <th>Parch</th>\n",
       "      <th>Ticket</th>\n",
       "      <th>Fare</th>\n",
       "      <th>Cabin</th>\n",
       "      <th>Embarked</th>\n",
       "    </tr>\n",
       "  </thead>\n",
       "  <tbody>\n",
       "    <tr>\n",
       "      <th>0</th>\n",
       "      <td>1</td>\n",
       "      <td>0</td>\n",
       "      <td>3</td>\n",
       "      <td>Braund, Mr. Owen Harris</td>\n",
       "      <td>male</td>\n",
       "      <td>22.0</td>\n",
       "      <td>1</td>\n",
       "      <td>0</td>\n",
       "      <td>A/5 21171</td>\n",
       "      <td>7.2500</td>\n",
       "      <td>NaN</td>\n",
       "      <td>S</td>\n",
       "    </tr>\n",
       "    <tr>\n",
       "      <th>1</th>\n",
       "      <td>2</td>\n",
       "      <td>1</td>\n",
       "      <td>1</td>\n",
       "      <td>Cumings, Mrs. John Bradley (Florence Briggs Th...</td>\n",
       "      <td>female</td>\n",
       "      <td>38.0</td>\n",
       "      <td>1</td>\n",
       "      <td>0</td>\n",
       "      <td>PC 17599</td>\n",
       "      <td>71.2833</td>\n",
       "      <td>C85</td>\n",
       "      <td>C</td>\n",
       "    </tr>\n",
       "    <tr>\n",
       "      <th>2</th>\n",
       "      <td>3</td>\n",
       "      <td>1</td>\n",
       "      <td>3</td>\n",
       "      <td>Heikkinen, Miss. Laina</td>\n",
       "      <td>female</td>\n",
       "      <td>26.0</td>\n",
       "      <td>0</td>\n",
       "      <td>0</td>\n",
       "      <td>STON/O2. 3101282</td>\n",
       "      <td>7.9250</td>\n",
       "      <td>NaN</td>\n",
       "      <td>S</td>\n",
       "    </tr>\n",
       "    <tr>\n",
       "      <th>3</th>\n",
       "      <td>4</td>\n",
       "      <td>1</td>\n",
       "      <td>1</td>\n",
       "      <td>Futrelle, Mrs. Jacques Heath (Lily May Peel)</td>\n",
       "      <td>female</td>\n",
       "      <td>35.0</td>\n",
       "      <td>1</td>\n",
       "      <td>0</td>\n",
       "      <td>113803</td>\n",
       "      <td>53.1000</td>\n",
       "      <td>C123</td>\n",
       "      <td>S</td>\n",
       "    </tr>\n",
       "    <tr>\n",
       "      <th>4</th>\n",
       "      <td>5</td>\n",
       "      <td>0</td>\n",
       "      <td>3</td>\n",
       "      <td>Allen, Mr. William Henry</td>\n",
       "      <td>male</td>\n",
       "      <td>35.0</td>\n",
       "      <td>0</td>\n",
       "      <td>0</td>\n",
       "      <td>373450</td>\n",
       "      <td>8.0500</td>\n",
       "      <td>NaN</td>\n",
       "      <td>S</td>\n",
       "    </tr>\n",
       "  </tbody>\n",
       "</table>\n",
       "</div>"
      ],
      "text/plain": [
       "   PassengerId  Survived  Pclass  \\\n",
       "0            1         0       3   \n",
       "1            2         1       1   \n",
       "2            3         1       3   \n",
       "3            4         1       1   \n",
       "4            5         0       3   \n",
       "\n",
       "                                                Name     Sex   Age  SibSp  \\\n",
       "0                            Braund, Mr. Owen Harris    male  22.0      1   \n",
       "1  Cumings, Mrs. John Bradley (Florence Briggs Th...  female  38.0      1   \n",
       "2                             Heikkinen, Miss. Laina  female  26.0      0   \n",
       "3       Futrelle, Mrs. Jacques Heath (Lily May Peel)  female  35.0      1   \n",
       "4                           Allen, Mr. William Henry    male  35.0      0   \n",
       "\n",
       "   Parch            Ticket     Fare Cabin Embarked  \n",
       "0      0         A/5 21171   7.2500   NaN        S  \n",
       "1      0          PC 17599  71.2833   C85        C  \n",
       "2      0  STON/O2. 3101282   7.9250   NaN        S  \n",
       "3      0            113803  53.1000  C123        S  \n",
       "4      0            373450   8.0500   NaN        S  "
      ]
     },
     "execution_count": 4,
     "metadata": {},
     "output_type": "execute_result"
    }
   ],
   "source": [
    "train.head()"
   ]
  },
  {
   "cell_type": "code",
   "execution_count": 5,
   "id": "77cbae38",
   "metadata": {
    "execution": {
     "iopub.execute_input": "2024-05-19T16:00:49.095324Z",
     "iopub.status.busy": "2024-05-19T16:00:49.094575Z",
     "iopub.status.idle": "2024-05-19T16:00:49.121472Z",
     "shell.execute_reply": "2024-05-19T16:00:49.120347Z"
    },
    "papermill": {
     "duration": 0.038257,
     "end_time": "2024-05-19T16:00:49.124337",
     "exception": false,
     "start_time": "2024-05-19T16:00:49.086080",
     "status": "completed"
    },
    "tags": []
   },
   "outputs": [
    {
     "name": "stdout",
     "output_type": "stream",
     "text": [
      "<class 'pandas.core.frame.DataFrame'>\n",
      "RangeIndex: 891 entries, 0 to 890\n",
      "Data columns (total 12 columns):\n",
      " #   Column       Non-Null Count  Dtype  \n",
      "---  ------       --------------  -----  \n",
      " 0   PassengerId  891 non-null    int64  \n",
      " 1   Survived     891 non-null    int64  \n",
      " 2   Pclass       891 non-null    int64  \n",
      " 3   Name         891 non-null    object \n",
      " 4   Sex          891 non-null    object \n",
      " 5   Age          714 non-null    float64\n",
      " 6   SibSp        891 non-null    int64  \n",
      " 7   Parch        891 non-null    int64  \n",
      " 8   Ticket       891 non-null    object \n",
      " 9   Fare         891 non-null    float64\n",
      " 10  Cabin        204 non-null    object \n",
      " 11  Embarked     889 non-null    object \n",
      "dtypes: float64(2), int64(5), object(5)\n",
      "memory usage: 83.7+ KB\n"
     ]
    }
   ],
   "source": [
    "train.info()"
   ]
  },
  {
   "cell_type": "code",
   "execution_count": 6,
   "id": "ef7b3a3c",
   "metadata": {
    "execution": {
     "iopub.execute_input": "2024-05-19T16:00:49.140988Z",
     "iopub.status.busy": "2024-05-19T16:00:49.140254Z",
     "iopub.status.idle": "2024-05-19T16:00:49.156687Z",
     "shell.execute_reply": "2024-05-19T16:00:49.155666Z"
    },
    "papermill": {
     "duration": 0.027917,
     "end_time": "2024-05-19T16:00:49.159433",
     "exception": false,
     "start_time": "2024-05-19T16:00:49.131516",
     "status": "completed"
    },
    "tags": []
   },
   "outputs": [
    {
     "data": {
      "text/html": [
       "<div>\n",
       "<style scoped>\n",
       "    .dataframe tbody tr th:only-of-type {\n",
       "        vertical-align: middle;\n",
       "    }\n",
       "\n",
       "    .dataframe tbody tr th {\n",
       "        vertical-align: top;\n",
       "    }\n",
       "\n",
       "    .dataframe thead th {\n",
       "        text-align: right;\n",
       "    }\n",
       "</style>\n",
       "<table border=\"1\" class=\"dataframe\">\n",
       "  <thead>\n",
       "    <tr style=\"text-align: right;\">\n",
       "      <th></th>\n",
       "      <th>PassengerId</th>\n",
       "      <th>Pclass</th>\n",
       "      <th>Name</th>\n",
       "      <th>Sex</th>\n",
       "      <th>Age</th>\n",
       "      <th>SibSp</th>\n",
       "      <th>Parch</th>\n",
       "      <th>Ticket</th>\n",
       "      <th>Fare</th>\n",
       "      <th>Cabin</th>\n",
       "      <th>Embarked</th>\n",
       "    </tr>\n",
       "  </thead>\n",
       "  <tbody>\n",
       "    <tr>\n",
       "      <th>0</th>\n",
       "      <td>892</td>\n",
       "      <td>3</td>\n",
       "      <td>Kelly, Mr. James</td>\n",
       "      <td>male</td>\n",
       "      <td>34.5</td>\n",
       "      <td>0</td>\n",
       "      <td>0</td>\n",
       "      <td>330911</td>\n",
       "      <td>7.8292</td>\n",
       "      <td>NaN</td>\n",
       "      <td>Q</td>\n",
       "    </tr>\n",
       "    <tr>\n",
       "      <th>1</th>\n",
       "      <td>893</td>\n",
       "      <td>3</td>\n",
       "      <td>Wilkes, Mrs. James (Ellen Needs)</td>\n",
       "      <td>female</td>\n",
       "      <td>47.0</td>\n",
       "      <td>1</td>\n",
       "      <td>0</td>\n",
       "      <td>363272</td>\n",
       "      <td>7.0000</td>\n",
       "      <td>NaN</td>\n",
       "      <td>S</td>\n",
       "    </tr>\n",
       "    <tr>\n",
       "      <th>2</th>\n",
       "      <td>894</td>\n",
       "      <td>2</td>\n",
       "      <td>Myles, Mr. Thomas Francis</td>\n",
       "      <td>male</td>\n",
       "      <td>62.0</td>\n",
       "      <td>0</td>\n",
       "      <td>0</td>\n",
       "      <td>240276</td>\n",
       "      <td>9.6875</td>\n",
       "      <td>NaN</td>\n",
       "      <td>Q</td>\n",
       "    </tr>\n",
       "    <tr>\n",
       "      <th>3</th>\n",
       "      <td>895</td>\n",
       "      <td>3</td>\n",
       "      <td>Wirz, Mr. Albert</td>\n",
       "      <td>male</td>\n",
       "      <td>27.0</td>\n",
       "      <td>0</td>\n",
       "      <td>0</td>\n",
       "      <td>315154</td>\n",
       "      <td>8.6625</td>\n",
       "      <td>NaN</td>\n",
       "      <td>S</td>\n",
       "    </tr>\n",
       "    <tr>\n",
       "      <th>4</th>\n",
       "      <td>896</td>\n",
       "      <td>3</td>\n",
       "      <td>Hirvonen, Mrs. Alexander (Helga E Lindqvist)</td>\n",
       "      <td>female</td>\n",
       "      <td>22.0</td>\n",
       "      <td>1</td>\n",
       "      <td>1</td>\n",
       "      <td>3101298</td>\n",
       "      <td>12.2875</td>\n",
       "      <td>NaN</td>\n",
       "      <td>S</td>\n",
       "    </tr>\n",
       "  </tbody>\n",
       "</table>\n",
       "</div>"
      ],
      "text/plain": [
       "   PassengerId  Pclass                                          Name     Sex  \\\n",
       "0          892       3                              Kelly, Mr. James    male   \n",
       "1          893       3              Wilkes, Mrs. James (Ellen Needs)  female   \n",
       "2          894       2                     Myles, Mr. Thomas Francis    male   \n",
       "3          895       3                              Wirz, Mr. Albert    male   \n",
       "4          896       3  Hirvonen, Mrs. Alexander (Helga E Lindqvist)  female   \n",
       "\n",
       "    Age  SibSp  Parch   Ticket     Fare Cabin Embarked  \n",
       "0  34.5      0      0   330911   7.8292   NaN        Q  \n",
       "1  47.0      1      0   363272   7.0000   NaN        S  \n",
       "2  62.0      0      0   240276   9.6875   NaN        Q  \n",
       "3  27.0      0      0   315154   8.6625   NaN        S  \n",
       "4  22.0      1      1  3101298  12.2875   NaN        S  "
      ]
     },
     "execution_count": 6,
     "metadata": {},
     "output_type": "execute_result"
    }
   ],
   "source": [
    "test.head()"
   ]
  },
  {
   "cell_type": "code",
   "execution_count": 7,
   "id": "a5f6d509",
   "metadata": {
    "execution": {
     "iopub.execute_input": "2024-05-19T16:00:49.176602Z",
     "iopub.status.busy": "2024-05-19T16:00:49.175852Z",
     "iopub.status.idle": "2024-05-19T16:00:49.187349Z",
     "shell.execute_reply": "2024-05-19T16:00:49.186211Z"
    },
    "papermill": {
     "duration": 0.024949,
     "end_time": "2024-05-19T16:00:49.191872",
     "exception": false,
     "start_time": "2024-05-19T16:00:49.166923",
     "status": "completed"
    },
    "tags": []
   },
   "outputs": [
    {
     "name": "stdout",
     "output_type": "stream",
     "text": [
      "<class 'pandas.core.frame.DataFrame'>\n",
      "RangeIndex: 418 entries, 0 to 417\n",
      "Data columns (total 11 columns):\n",
      " #   Column       Non-Null Count  Dtype  \n",
      "---  ------       --------------  -----  \n",
      " 0   PassengerId  418 non-null    int64  \n",
      " 1   Pclass       418 non-null    int64  \n",
      " 2   Name         418 non-null    object \n",
      " 3   Sex          418 non-null    object \n",
      " 4   Age          332 non-null    float64\n",
      " 5   SibSp        418 non-null    int64  \n",
      " 6   Parch        418 non-null    int64  \n",
      " 7   Ticket       418 non-null    object \n",
      " 8   Fare         417 non-null    float64\n",
      " 9   Cabin        91 non-null     object \n",
      " 10  Embarked     418 non-null    object \n",
      "dtypes: float64(2), int64(4), object(5)\n",
      "memory usage: 36.0+ KB\n"
     ]
    }
   ],
   "source": [
    "test.info()"
   ]
  },
  {
   "cell_type": "code",
   "execution_count": 8,
   "id": "0f294d77",
   "metadata": {
    "execution": {
     "iopub.execute_input": "2024-05-19T16:00:49.209517Z",
     "iopub.status.busy": "2024-05-19T16:00:49.209112Z",
     "iopub.status.idle": "2024-05-19T16:00:49.219280Z",
     "shell.execute_reply": "2024-05-19T16:00:49.218201Z"
    },
    "papermill": {
     "duration": 0.021732,
     "end_time": "2024-05-19T16:00:49.221618",
     "exception": false,
     "start_time": "2024-05-19T16:00:49.199886",
     "status": "completed"
    },
    "tags": []
   },
   "outputs": [],
   "source": [
    "# train(target drop), test를 행 방향으로 합치기\n",
    "data_set = pd.concat((train.drop(['Survived'], axis=1), test), axis=0)"
   ]
  },
  {
   "cell_type": "code",
   "execution_count": 9,
   "id": "a4eebb17",
   "metadata": {
    "execution": {
     "iopub.execute_input": "2024-05-19T16:00:49.238290Z",
     "iopub.status.busy": "2024-05-19T16:00:49.237877Z",
     "iopub.status.idle": "2024-05-19T16:00:49.247535Z",
     "shell.execute_reply": "2024-05-19T16:00:49.246470Z"
    },
    "papermill": {
     "duration": 0.020536,
     "end_time": "2024-05-19T16:00:49.249818",
     "exception": false,
     "start_time": "2024-05-19T16:00:49.229282",
     "status": "completed"
    },
    "tags": []
   },
   "outputs": [],
   "source": [
    "# 사용하지 않을 features drop하기\n",
    "data_set = data_set.drop(['PassengerId', 'Name', 'Sex', 'Ticket', 'Cabin', 'Embarked'], axis = 1)\n",
    "# 결측값을 평균으로 채우기\n",
    "data_set = data_set.fillna(data_set.mean())"
   ]
  },
  {
   "cell_type": "code",
   "execution_count": 10,
   "id": "894256e1",
   "metadata": {
    "execution": {
     "iopub.execute_input": "2024-05-19T16:00:49.266937Z",
     "iopub.status.busy": "2024-05-19T16:00:49.266558Z",
     "iopub.status.idle": "2024-05-19T16:00:49.275432Z",
     "shell.execute_reply": "2024-05-19T16:00:49.274342Z"
    },
    "papermill": {
     "duration": 0.020232,
     "end_time": "2024-05-19T16:00:49.277780",
     "exception": false,
     "start_time": "2024-05-19T16:00:49.257548",
     "status": "completed"
    },
    "tags": []
   },
   "outputs": [],
   "source": [
    "# train set, test set\n",
    "\n",
    "n_train = train.shape[0]\n",
    "train_x, test_x = data_set[:n_train], data_set[n_train:]\n",
    "train_y = train['Survived']\n",
    "\n",
    "# numpy array\n",
    "# .keys(): all the names of DataFrame columns\n",
    "# values: pandas data to numpy array\n",
    "train_x = train_x[train_x.keys()].values\n",
    "test_x = test_x[test_x.keys()].values\n",
    "train_y = train_y.values"
   ]
  },
  {
   "cell_type": "code",
   "execution_count": 11,
   "id": "4b02d8fb",
   "metadata": {
    "execution": {
     "iopub.execute_input": "2024-05-19T16:00:49.294776Z",
     "iopub.status.busy": "2024-05-19T16:00:49.294364Z",
     "iopub.status.idle": "2024-05-19T16:00:49.298913Z",
     "shell.execute_reply": "2024-05-19T16:00:49.298181Z"
    },
    "papermill": {
     "duration": 0.015731,
     "end_time": "2024-05-19T16:00:49.301219",
     "exception": false,
     "start_time": "2024-05-19T16:00:49.285488",
     "status": "completed"
    },
    "tags": []
   },
   "outputs": [
    {
     "name": "stdout",
     "output_type": "stream",
     "text": [
      "(891, 5)\n"
     ]
    }
   ],
   "source": [
    "print(train_x.shape)"
   ]
  },
  {
   "cell_type": "markdown",
   "id": "1db932f6",
   "metadata": {
    "papermill": {
     "duration": 0.007443,
     "end_time": "2024-05-19T16:00:49.329693",
     "exception": false,
     "start_time": "2024-05-19T16:00:49.322250",
     "status": "completed"
    },
    "tags": []
   },
   "source": [
    "# Model"
   ]
  },
  {
   "cell_type": "code",
   "execution_count": 12,
   "id": "bbab6684",
   "metadata": {
    "execution": {
     "iopub.execute_input": "2024-05-19T16:00:49.346436Z",
     "iopub.status.busy": "2024-05-19T16:00:49.346046Z",
     "iopub.status.idle": "2024-05-19T16:00:53.126598Z",
     "shell.execute_reply": "2024-05-19T16:00:53.125557Z"
    },
    "papermill": {
     "duration": 3.792139,
     "end_time": "2024-05-19T16:00:53.129446",
     "exception": false,
     "start_time": "2024-05-19T16:00:49.337307",
     "status": "completed"
    },
    "tags": []
   },
   "outputs": [],
   "source": [
    "import torch\n",
    "from torch import nn\n",
    "from torch.utils.data import DataLoader"
   ]
  },
  {
   "cell_type": "code",
   "execution_count": 13,
   "id": "49ec3d82",
   "metadata": {
    "execution": {
     "iopub.execute_input": "2024-05-19T16:00:53.147969Z",
     "iopub.status.busy": "2024-05-19T16:00:53.147410Z",
     "iopub.status.idle": "2024-05-19T16:00:53.159149Z",
     "shell.execute_reply": "2024-05-19T16:00:53.157865Z"
    },
    "papermill": {
     "duration": 0.02376,
     "end_time": "2024-05-19T16:00:53.161427",
     "exception": false,
     "start_time": "2024-05-19T16:00:53.137667",
     "status": "completed"
    },
    "tags": []
   },
   "outputs": [],
   "source": [
    "class SimpleNN(nn.Module):\n",
    "    def __init__(self):\n",
    "        super().__init__()\n",
    "        self.classifier = nn.Sequential(\n",
    "            # layer 1\n",
    "            # features: 5\n",
    "            nn.Linear(5, 128),\n",
    "            # Batch Norm between Layer and Activation function (before Activiation function)\n",
    "            nn.BatchNorm1d(128),\n",
    "            nn.ReLU(),\n",
    "            # Drop out after Activation function\n",
    "            # drop prob = 0.1\n",
    "            nn.Dropout(0.1),\n",
    "            # layer 2\n",
    "            nn.Linear(128, 256),\n",
    "            nn.BatchNorm1d(256),\n",
    "            nn.ReLU(),\n",
    "            nn.Dropout(0.1),\n",
    "            # layer 3\n",
    "            nn.Linear(256, 128),\n",
    "            nn.BatchNorm1d(128),\n",
    "            nn.ReLU(),\n",
    "            nn.Dropout(0.1),\n",
    "            # output layer\n",
    "            nn.Linear(128, 1),\n",
    "            nn.Sigmoid()\n",
    "        )\n",
    "\n",
    "    def forward(self, x):\n",
    "        # view(): reshape tensor\n",
    "        x = x.view(x.size(0), -1)\n",
    "        x = self.classifier(x)\n",
    "        return x"
   ]
  },
  {
   "cell_type": "markdown",
   "id": "598c8c49",
   "metadata": {
    "papermill": {
     "duration": 0.007348,
     "end_time": "2024-05-19T16:00:53.176775",
     "exception": false,
     "start_time": "2024-05-19T16:00:53.169427",
     "status": "completed"
    },
    "tags": []
   },
   "source": [
    "# Train"
   ]
  },
  {
   "cell_type": "code",
   "execution_count": 14,
   "id": "d1d7c66c",
   "metadata": {
    "execution": {
     "iopub.execute_input": "2024-05-19T16:00:53.193700Z",
     "iopub.status.busy": "2024-05-19T16:00:53.193284Z",
     "iopub.status.idle": "2024-05-19T16:01:09.664055Z",
     "shell.execute_reply": "2024-05-19T16:01:09.662684Z"
    },
    "papermill": {
     "duration": 16.482673,
     "end_time": "2024-05-19T16:01:09.667049",
     "exception": false,
     "start_time": "2024-05-19T16:00:53.184376",
     "status": "completed"
    },
    "tags": []
   },
   "outputs": [
    {
     "name": "stdout",
     "output_type": "stream",
     "text": [
      "Loss: 0.6314508318901062 Accuracy: 0.6655443322109988% Epoch:0\n",
      "Loss: 0.5201640692022111 Accuracy: 0.7508417508417509% Epoch:25\n",
      "Loss: 0.4699500732951694 Accuracy: 0.77665544332211% Epoch:50\n",
      "Loss: 0.41628362072838676 Accuracy: 0.8159371492704826% Epoch:75\n",
      "Loss: 0.3736910820007324 Accuracy: 0.8327721661054994% Epoch:100\n",
      "Loss: 0.33269308010737103 Accuracy: 0.8451178451178452% Epoch:125\n",
      "Loss: 0.35124723778830635 Accuracy: 0.8451178451178452% Epoch:150\n",
      "Loss: 0.32327385909027523 Accuracy: 0.8597081930415263% Epoch:175\n",
      "Loss: 0.29045361942715114 Accuracy: 0.8843995510662177% Epoch:200\n",
      "Loss: 0.24633292688263786 Accuracy: 0.8933782267115601% Epoch:225\n",
      "Loss: 0.247249788708157 Accuracy: 0.9012345679012346% Epoch:250\n",
      "Loss: 0.23800834516684213 Accuracy: 0.9046015712682379% Epoch:275\n",
      "End\n"
     ]
    }
   ],
   "source": [
    "import torch.optim as optim\n",
    "\n",
    "simple_nn = SimpleNN()\n",
    "\n",
    "# Optimization algorithm : Adam\n",
    "optimizer = optim.Adam(simple_nn.parameters(), lr=0.01)\n",
    "\n",
    "# Loss function: \n",
    "error = nn.BCELoss()\n",
    "\n",
    "# minibatch size: 99\n",
    "batch_size = 99\n",
    "# number of minibatches \n",
    "batch_count = int(len(train_x) / batch_size)\n",
    "\n",
    "for epoch in range(300):\n",
    "    train_loss = 0\n",
    "    num_right = 0\n",
    "    for i in range(batch_count):\n",
    "        start = i * batch_size\n",
    "        end = start + batch_size\n",
    "        \n",
    "        # Float Tensor (minibatch)\n",
    "        tensor_x = torch.Tensor(train_x[start:end])\n",
    "        tensor_y = torch.Tensor(train_y[start:end]).reshape(-1, 1)\n",
    "        \n",
    "        optimizer.zero_grad()\n",
    "        \n",
    "        output = simple_nn(tensor_x)\n",
    "        \n",
    "        loss = error(output, tensor_y)\n",
    "        loss.backward()\n",
    "        optimizer.step()\n",
    "        \n",
    "        train_loss += loss.item() * batch_size\n",
    "        # threshold: 0.5\n",
    "        result = [1 if out >= 0.5 else 0 for out in output]\n",
    "        num_right += np.sum(np.array(result) == train_y[start:end])\n",
    "        \n",
    "    train_loss = train_loss / len(train_x)\n",
    "    accuracy = num_right / len(train_x)\n",
    "    \n",
    "    if epoch % 25 == 0:\n",
    "        print('Loss: {} Accuracy: {}% Epoch:{}'.format(train_loss, accuracy, epoch))\n",
    "\n",
    "        \n",
    "print('End')"
   ]
  },
  {
   "cell_type": "markdown",
   "id": "553465c1",
   "metadata": {
    "papermill": {
     "duration": 0.00853,
     "end_time": "2024-05-19T16:01:09.686024",
     "exception": false,
     "start_time": "2024-05-19T16:01:09.677494",
     "status": "completed"
    },
    "tags": []
   },
   "source": [
    "# Prediction"
   ]
  },
  {
   "cell_type": "code",
   "execution_count": 15,
   "id": "346953d1",
   "metadata": {
    "execution": {
     "iopub.execute_input": "2024-05-19T16:01:09.705664Z",
     "iopub.status.busy": "2024-05-19T16:01:09.705077Z",
     "iopub.status.idle": "2024-05-19T16:01:09.727719Z",
     "shell.execute_reply": "2024-05-19T16:01:09.726203Z"
    },
    "papermill": {
     "duration": 0.035174,
     "end_time": "2024-05-19T16:01:09.730044",
     "exception": false,
     "start_time": "2024-05-19T16:01:09.694870",
     "status": "completed"
    },
    "tags": []
   },
   "outputs": [
    {
     "name": "stdout",
     "output_type": "stream",
     "text": [
      "     PassengerId  Survived\n",
      "0            892         0\n",
      "1            893         0\n",
      "2            894         0\n",
      "3            895         0\n",
      "4            896         0\n",
      "..           ...       ...\n",
      "413         1305         0\n",
      "414         1306         1\n",
      "415         1307         0\n",
      "416         1308         0\n",
      "417         1309         0\n",
      "\n",
      "[418 rows x 2 columns]\n"
     ]
    }
   ],
   "source": [
    "tensor_test_x = torch.Tensor(test_x)\n",
    "\n",
    "# No gradient update\n",
    "with torch.no_grad():\n",
    "    test_output = simple_nn(tensor_test_x)\n",
    "    \n",
    "    result = np.array([1 if out >= 0.5 else 0 for out in test_output])\n",
    "    submission = pd.DataFrame({'PassengerId': test['PassengerId'], 'Survived': result})\n",
    "    print(submission)"
   ]
  }
 ],
 "metadata": {
  "kaggle": {
   "accelerator": "none",
   "dataSources": [
    {
     "databundleVersionId": 26502,
     "sourceId": 3136,
     "sourceType": "competition"
    }
   ],
   "dockerImageVersionId": 30698,
   "isGpuEnabled": false,
   "isInternetEnabled": false,
   "language": "python",
   "sourceType": "notebook"
  },
  "kernelspec": {
   "display_name": "Python 3",
   "language": "python",
   "name": "python3"
  },
  "language_info": {
   "codemirror_mode": {
    "name": "ipython",
    "version": 3
   },
   "file_extension": ".py",
   "mimetype": "text/x-python",
   "name": "python",
   "nbconvert_exporter": "python",
   "pygments_lexer": "ipython3",
   "version": "3.10.13"
  },
  "papermill": {
   "default_parameters": {},
   "duration": 26.139441,
   "end_time": "2024-05-19T16:01:10.962276",
   "environment_variables": {},
   "exception": null,
   "input_path": "__notebook__.ipynb",
   "output_path": "__notebook__.ipynb",
   "parameters": {},
   "start_time": "2024-05-19T16:00:44.822835",
   "version": "2.5.0"
  }
 },
 "nbformat": 4,
 "nbformat_minor": 5
}
